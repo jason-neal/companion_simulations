{
 "cells": [
  {
   "cell_type": "code",
   "execution_count": 1,
   "metadata": {},
   "outputs": [],
   "source": [
    "# Monitor fake detection processing etc."
   ]
  },
  {
   "cell_type": "code",
   "execution_count": null,
   "metadata": {},
   "outputs": [],
   "source": []
  },
  {
   "cell_type": "code",
   "execution_count": 2,
   "metadata": {},
   "outputs": [
    {
     "ename": "ModuleNotFoundError",
     "evalue": "No module named 'spectrum_overload.Spectrum'",
     "output_type": "error",
     "traceback": [
      "\u001b[0;31m---------------------------------------------------------------------------\u001b[0m",
      "\u001b[0;31mModuleNotFoundError\u001b[0m                       Traceback (most recent call last)",
      "\u001b[0;32m<ipython-input-2-7f3c6e1224db>\u001b[0m in \u001b[0;36m<module>\u001b[0;34m()\u001b[0m\n\u001b[0;32m----> 1\u001b[0;31m \u001b[0;32mfrom\u001b[0m \u001b[0mspectrum_overload\u001b[0m\u001b[0;34m.\u001b[0m\u001b[0mSpectrum\u001b[0m \u001b[0;32mimport\u001b[0m \u001b[0mSpectrum\u001b[0m\u001b[0;34m\u001b[0m\u001b[0m\n\u001b[0m\u001b[1;32m      2\u001b[0m \u001b[0;32mfrom\u001b[0m \u001b[0mutilities\u001b[0m\u001b[0;34m.\u001b[0m\u001b[0mphoenix_utils\u001b[0m \u001b[0;32mimport\u001b[0m \u001b[0mload_starfish_spectrum\u001b[0m\u001b[0;34m\u001b[0m\u001b[0m\n\u001b[1;32m      3\u001b[0m \u001b[0;34m\u001b[0m\u001b[0m\n\u001b[1;32m      4\u001b[0m \u001b[0;32mfrom\u001b[0m \u001b[0mmodels\u001b[0m\u001b[0;34m.\u001b[0m\u001b[0mbroadcasted_models\u001b[0m \u001b[0;32mimport\u001b[0m \u001b[0minherent_alpha_model\u001b[0m\u001b[0;34m,\u001b[0m \u001b[0mindependent_inherent_alpha_model\u001b[0m\u001b[0;34m\u001b[0m\u001b[0m\n\u001b[1;32m      5\u001b[0m \u001b[0;34m\u001b[0m\u001b[0m\n",
      "\u001b[0;31mModuleNotFoundError\u001b[0m: No module named 'spectrum_overload.Spectrum'"
     ]
    }
   ],
   "source": [
    "from spectrum_overload.Spectrum import Spectrum\n",
    "from utilities.phoenix_utils import load_starfish_spectrum\n",
    "\n",
    "from models.broadcasted_models import inherent_alpha_model, independent_inherent_alpha_model\n",
    " \n",
    "from scipy.stats import chisquare\n",
    "from utilities.chisqr import chi_squared\n",
    "\n",
    "import matplotlib.pyplot as plt\n",
    "import numpy as np\n",
    "from scipy.interpolate import interp1d"
   ]
  },
  {
   "cell_type": "code",
   "execution_count": null,
   "metadata": {},
   "outputs": [],
   "source": [
    "snr = 300\n",
    "sim_num = 3\n",
    "starname = \"HDSIM4\"\n",
    "params1 = [6000, 4.5, 0.0]\n",
    "params2 = [5800, 4.5, 0.0]\n",
    "gamma = 45\n",
    "rv = -30\n",
    "\n",
    "normalization_limits = [2000, 2300]\n",
    "\n",
    "mod1_spec_scaled = load_starfish_spectrum(params1, limits=normalization_limits,\n",
    "                                       hdr=True, normalize=False, area_scale=True,\n",
    "                                       flux_rescale=True)\n",
    "mod1_spec_unscaled = load_starfish_spectrum(params1, limits=normalization_limits,\n",
    "                                       hdr=True, normalize=False, area_scale=False,\n",
    "                                       flux_rescale=True)\n",
    "\n",
    "mod2_spec_scaled = load_starfish_spectrum(params2, limits=normalization_limits,\n",
    "                                       hdr=True, normalize=False, area_scale=True,\n",
    "                                       flux_rescale=True)\n",
    "mod2_spec_unscaled = load_starfish_spectrum(params2, limits=normalization_limits,\n",
    "                                       hdr=True, normalize=False, area_scale=False,\n",
    "                                       flux_rescale=True)\n",
    "\n",
    "\n",
    "for name, mod1_spec, mod2_spec in zip([\"area scaled\", \"area unscaled\"],\n",
    "                                  [mod1_spec_scaled, mod1_spec_unscaled],\n",
    "                                  [mod2_spec_scaled, mod2_spec_unscaled]):\n",
    "\n",
    "    mod1_spec = mod1_spec.remove_nans()\n",
    "    mod2_spec = mod2_spec.remove_nans()\n",
    "    mod1_spec.wav_select(2000, 2200)\n",
    "    mod2_spec.wav_select(2000, 2200)\n",
    "\n",
    "    plt.plot(mod1_spec.xaxis, mod1_spec.flux, label=\"mod1\")\n",
    "    plt.plot(mod2_spec.xaxis, mod2_spec.flux, label=\"mod2\")\n",
    "    plt.title(name)\n",
    "plt.show()\n",
    "\n"
   ]
  },
  {
   "cell_type": "code",
   "execution_count": null,
   "metadata": {},
   "outputs": [],
   "source": [
    "# Need to sample the spectrum away from the ends so that you don't get nans at the ends\n",
    "# The chisqr does not like nans\n",
    "sample_x = np.linspace(2112, 2145, 1024)"
   ]
  },
  {
   "cell_type": "code",
   "execution_count": null,
   "metadata": {},
   "outputs": [],
   "source": [
    "def join_with_broadcast_spectrum(mod1, mod2, rv, gamma, new_x, independent=False):\n",
    "    if independent:\n",
    "        broadcast_result = independent_inherent_alpha_model(mod1.xaxis, mod1.flux, mod2.flux,\n",
    "                                                rvs=rv, gammas=gamma, independent_rv=True)\n",
    "    else:\n",
    "        broadcast_result = inherent_alpha_model(mod1.xaxis, mod1.flux, mod2.flux,\n",
    "                                                rvs=rv, gammas=gamma, independent_rv=True)\n",
    "\n",
    "    broadcast_values = broadcast_result(new_x)\n",
    "    return Spectrum(flux=broadcast_values.squeeze(), xaxis=new_x)\n",
    "    \n",
    "\n",
    "def join_with_broadcast(mod1, mod2, rv, gamma, new_x, independent=False):\n",
    "    if independent:\n",
    "        broadcast_result = independent_inherent_alpha_model(mod1.xaxis, mod1.flux, mod2.flux,\n",
    "                                                rvs=rv, gammas=gamma, independent_rv=True)\n",
    "    else:\n",
    "        broadcast_result = inherent_alpha_model(mod1.xaxis, mod1.flux, mod2.flux,\n",
    "                                                rvs=rv, gammas=gamma, independent_rv=True)\n",
    "    broadcast_values = broadcast_result(new_x)\n",
    "    return  broadcast_values.squeeze()\n",
    "\n",
    "gammas = np.linspace(-100, 100, 50)\n",
    "rvs = np.linspace(-100, 100, 60)\n",
    "\n",
    "\n",
    "for independent in (True, False):\n",
    "    print(\"independant \", independent)\n",
    "\n",
    "    print(\"fake data\")\n",
    "    fake_data = join_with_broadcast_spectrum(mod1_spec_scaled, mod2_spec_scaled,\n",
    "                                             rv, gamma, sample_x, independent=independent)\n",
    "\n",
    "    gamma_grid_data = join_with_broadcast(mod1_spec_scaled, mod2_spec_scaled,\n",
    "                                          [-6], gammas, sample_x, independent=independent)\n",
    "    rv_grid_data = join_with_broadcast(mod1_spec_scaled, mod2_spec_scaled, rvs,\n",
    "                                       [10], sample_x, independent=independent)\n",
    "    dual_grid_data = join_with_broadcast(mod1_spec_scaled, mod2_spec_scaled,\n",
    "                                         rvs, gammas, sample_x, independent=independent)\n",
    "\n",
    "    for normalize in (True, False):\n",
    "        print(\"normalizing\", normalize)\n",
    "        \n",
    "    \n",
    "        fake_data.remove_nans()\n",
    "\n",
    "        print(fake_data.flux.shape)\n",
    "        print(gamma_grid_data.shape)\n",
    "        print(rv_grid_data.shape)\n",
    "        print(dual_grid_data.shape)\n",
    "\n",
    "        gamma_chi2 = chi_squared(fake_data.flux[:, np.newaxis], gamma_grid_data)\n",
    "        rv_chi2 = chi_squared(fake_data.flux[:, np.newaxis], rv_grid_data)\n",
    "        dual_chi2 = chi_squared(fake_data.flux[:, np.newaxis, np.newaxis], dual_grid_data)\n",
    "        \n",
    "\n",
    "        plt.plot(gammas, gamma_chi2)\n",
    "        plt.title(\"gamma chi2\")\n",
    "        plt.show()\n",
    "\n",
    "        plt.plot(rvs, rv_chi2)\n",
    "        plt.title(\"rv chi2\")\n",
    "        plt.show()\n",
    "\n",
    "        gam, rv_grid = np.meshgrid(gammas, rvs)\n",
    "        plt.contourf(gam, rv_grid, dual_chi2)\n",
    "        plt.title(\"dual chi2 - gamma {}, rv {}\".format(gamma, rv))\n",
    "        plt.xlabel(\"gamma\")\n",
    "        plt.ylabel(\"rv\")\n",
    "        plt.colorbar()\n",
    "        if independent:\n",
    "            plt.plot(gamma, rv, \"rx\")\n",
    "        else:\n",
    "            plt.plot(gamma, gamma + rv, \"rx\")\n",
    "        plt.show()\n",
    "\n",
    "        dof = len(fake_data.xaxis) - 1\n"
   ]
  },
  {
   "cell_type": "code",
   "execution_count": null,
   "metadata": {},
   "outputs": [],
   "source": [
    "plt.plot(fake_data.flux)\n",
    "plt.show()"
   ]
  },
  {
   "cell_type": "code",
   "execution_count": null,
   "metadata": {},
   "outputs": [],
   "source": [
    "def plt_1d_grid(grid):\n",
    "    assert len(grid.shape) == 2\n",
    "    for i in range(grid.shape[1]):\n",
    "         plt.plot(grid[:,i], label=i)\n",
    "    #plt.legend()\n",
    "    plt.show()\n",
    "            \n",
    "\n",
    "\n",
    "def plt_2d_grid(grid):\n",
    "    assert len(grid.shape) == 3\n",
    "    \n",
    "    for i in range(grid.shape[1]):\n",
    "         for j in range(grid.shape[2]):\n",
    "             plt.plot(grid[:,i, j], label=\"{}, {}\".format(i, j))\n",
    "    #plt.legend()\n",
    "    plt.show()\n",
    "    \n",
    "plt_1d_grid(gamma_grid_data)\n",
    "\n",
    "plt_1d_grid(rv_grid_data)\n",
    "\n",
    "plt_2d_grid(dual_grid_data)"
   ]
  },
  {
   "cell_type": "code",
   "execution_count": null,
   "metadata": {},
   "outputs": [],
   "source": [
    "\n",
    "\n"
   ]
  },
  {
   "cell_type": "code",
   "execution_count": null,
   "metadata": {},
   "outputs": [],
   "source": []
  },
  {
   "cell_type": "code",
   "execution_count": null,
   "metadata": {},
   "outputs": [],
   "source": []
  },
  {
   "cell_type": "code",
   "execution_count": null,
   "metadata": {},
   "outputs": [],
   "source": [
    "# Reduced chi_2\n",
    "fake_data2 = fake_data.copy()\n",
    "fake_data2.add_noise(200)\n",
    "\n",
    "gamma_chi2_2 = chi_squared(fake_data2.flux[:, np.newaxis], gamma_grid_data, 1/100)\n",
    "rv_chi2_2 = chi_squared(fake_data2.flux[:, np.newaxis], rv_grid_data, 1/100)\n",
    "dual_chi2_2 = chi_squared(fake_data2.flux[:, np.newaxis, np.newaxis], dual_grid_data, 1/100)\n",
    "\n",
    "gamma_reduced_chi2 = gamma_chi2_2 / dof\n",
    "rv_reduced_chi2 = gamma_chi2_2 / dof\n",
    "gamma_reduced_chi2 = dual_chi2_2 / (dof-1)\n",
    "\n",
    "print(np.min(gamma_reduced_chi2))\n",
    "print(np.min(rv_reduced_chi2))\n",
    "print(np.min(gamma_reduced_chi2))"
   ]
  },
  {
   "cell_type": "code",
   "execution_count": null,
   "metadata": {},
   "outputs": [],
   "source": [
    "\n"
   ]
  }
 ],
 "metadata": {
  "anaconda-cloud": {},
  "kernelspec": {
   "display_name": "Python [conda env:sims]",
   "language": "python",
   "name": "conda-env-sims-py"
  },
  "language_info": {
   "codemirror_mode": {
    "name": "ipython",
    "version": 3
   },
   "file_extension": ".py",
   "mimetype": "text/x-python",
   "name": "python",
   "nbconvert_exporter": "python",
   "pygments_lexer": "ipython3",
   "version": "3.6.2"
  }
 },
 "nbformat": 4,
 "nbformat_minor": 2
}
