{
 "cells": [
  {
   "cell_type": "markdown",
   "metadata": {},
   "source": [
    "# Broadcasting a spectrum - Two spectral Components model"
   ]
  },
  {
   "cell_type": "code",
   "execution_count": null,
   "metadata": {},
   "outputs": [],
   "source": [
    "from astropy.io import fits\n",
    "import numpy as np\n",
    "import scipy as sp\n",
    "from scipy.interpolate import interp1d\n",
    "from scipy.stats import chisquare\n",
    "from PyAstronomy.pyasl import dopplerShift\n",
    "import matplotlib.pyplot as plt\n",
    "% matplotlib "
   ]
  },
  {
   "cell_type": "code",
   "execution_count": null,
   "metadata": {
    "collapsed": true
   },
   "outputs": [],
   "source": [
    "def two_comp_model(wav, model1, model2, alphas, rvs, gammas):\n",
    "    # Make 2 component simulations, broadcasting over alpha, rv, gamma values.\n",
    "\n",
    "    # Enable single scalar inputs (turn to 1d np.array)\n",
    "    if not hasattr(alphas, \"__len__\"):\n",
    "        alphas = np.asarray(alphas)[np.newaxis]\n",
    "    if not hasattr(rvs, \"__len__\"):\n",
    "        rvs = np.asarray(rvs)[np.newaxis]\n",
    "    if not hasattr(gammas, \"__len__\"):\n",
    "        gammas = np.asarray(gammas)[np.newaxis]\n",
    "        print(len(gammas))\n",
    "\n",
    "    am2 = model2[:,np.newaxis] * alphas           # alpha * Model2 (am2)\n",
    "    print(am2.shape) \n",
    "    \n",
    "    am2rv = np.empty(am2.shape + (len(rvs),))     # am2rv = am2 with rv doppler-shift\n",
    "    print(am2rv.shape)\n",
    "    for i, rv in enumerate(rvs):\n",
    "        #nflux, wlprime = dopplerShift(wav, am2, rv)\n",
    "        #am2rv[:, :, i] = nflux\n",
    "        wav_i = (1 - rv / c) * wav\n",
    "        am2rv[:, :, i] = interp1d(wav_i, am2, axis=0, bounds_error=False)(wav)\n",
    "    \n",
    "    # Normalize by (1 / 1 + alpha)\n",
    "    am2rv = am2rv / (1 + alphas)[np.newaxis, :, np.newaxis]\n",
    "\n",
    "    am2rvm1 = h[:, np.newaxis, np.newaxis] + am2rv                            # am2rvm1 = am2rv + model_1\n",
    "    print(am2rvm1.shape)\n",
    "    \n",
    "    am2rvm1g = np.empty(am2rvm1.shape + (len(gammas),))   # am2rvm1g = am2rvm1 with gamma doppler-shift\n",
    "    for j, gamma in enumerate(gammas):\n",
    "        wav_j = (1 - gamma / 299792.458) * wav\n",
    "        am2rvm1g[:, :, :, j] = interp1d(wav_j, am2rvm1, axis=0, bounds_error=False)(wav)\n",
    "    \n",
    "    return interp1d(w, am2rvm1g, axis=0)    # pass it the wavelength values to return\n",
    "    \n"
   ]
  },
  {
   "cell_type": "code",
   "execution_count": null,
   "metadata": {
    "collapsed": true
   },
   "outputs": [],
   "source": [
    "\n",
    "wav = \"/home/jneal/Phd/data/phoenixmodels/WAVE_PHOENIX-ACES-AGSS-COND-2011.fits\"\n",
    "host = \"/home/jneal/Phd/data/phoenixmodels/HD30501-lte05200-4.50-0.0.PHOENIX-ACES-AGSS-COND-2011-HiRes.fits\"\n",
    "comp = \"/home/jneal/Phd/data/phoenixmodels/HD30501b-lte02500-5.00-0.0.PHOENIX-ACES-AGSS-COND-2011-HiRes.fits\"\n",
    "\n",
    "w = fits.getdata(wav) / 10\n",
    "h = fits.getdata(host)\n",
    "c = fits.getdata(comp)\n"
   ]
  },
  {
   "cell_type": "code",
   "execution_count": null,
   "metadata": {
    "collapsed": true
   },
   "outputs": [],
   "source": [
    "mask = (2111 < w) & (w < 2117)\n",
    "\n",
    "w = w[mask] \n",
    "h = h[mask]\n",
    "c = c[mask]\n",
    "\n",
    "# crude normalization\n",
    "h = h/np.max(h)\n",
    "c = c/np.max(c)"
   ]
  },
  {
   "cell_type": "code",
   "execution_count": null,
   "metadata": {
    "collapsed": true
   },
   "outputs": [],
   "source": [
    "# Create a simulated spectrum\n",
    "# Parameters\n",
    "c_kms = 299792.458   # km/s\n",
    "s_alpha = np.array([0.1])\n",
    "s_rv    = np.array([1.5])\n",
    "s_gamma = np.array([0.5])\n",
    "answers = (s_alpha, s_rv, s_gamma)\n",
    "\n",
    "# COMPACT SIMULATION\n",
    "comp = interp1d((1 + s_rv / c_kms) * w, s_alpha * c, bounds_error=False)(w)\n",
    "Sim_func = interp1d((1 - s_gamma / c_kms) * w, (h + comp) / (1 + s_alpha), bounds_error=False, axis=0)\n",
    "sim_f_orgw = Sim_func(w)\n",
    "\n",
    "sim_w = np.linspace(2114, 2115, 1024)\n",
    "sim_f = Sim_func(sim_w)\n"
   ]
  },
  {
   "cell_type": "code",
   "execution_count": null,
   "metadata": {},
   "outputs": [],
   "source": [
    "# Compare output to tcm\n",
    "tcm_sim_f = two_comp_model(w, h, c, s_alpha, s_rv, s_gamma)(sim_w)\n",
    "ocm_sim_f = one_comp_model(w, h, s_gamma)(sim_w)"
   ]
  },
  {
   "cell_type": "code",
   "execution_count": null,
   "metadata": {},
   "outputs": [],
   "source": [
    "plt.close()\n",
    "plt.plot(w, sim_f_orgw, label=\"org_w\")\n",
    "plt.plot(sim_w, sim_f, label=\"sim\")\n",
    "plt.plot(sim_w, np.squeeze(tcm_sim_f), label=\"tcm sim\")\n",
    "plt.plot(sim_w, np.squeeze(ocm_sim_f), label=\"ocm sim\")\n",
    "plt.legend()\n",
    "plt.show()\n",
    "\n",
    "sim_f.shape\n",
    "\n",
    "# sim_w, sim_f are the observations to perform chisquared against!"
   ]
  },
  {
   "cell_type": "code",
   "execution_count": null,
   "metadata": {},
   "outputs": [],
   "source": [
    "alphas = np.linspace(0.1, 0.3, 40)\n",
    "rvs = np.arange(1.1, 2, 0.05)\n",
    "gammas = np.arange(-0.9, 1, 0.015)\n",
    "print(len(alphas), len(rvs), len(gammas))"
   ]
  },
  {
   "cell_type": "code",
   "execution_count": null,
   "metadata": {},
   "outputs": [],
   "source": [
    "tcm = two_comp_model(w, h, c, alphas=alphas, rvs=rvs, gammas=gammas) "
   ]
  },
  {
   "cell_type": "code",
   "execution_count": null,
   "metadata": {},
   "outputs": [],
   "source": [
    "# Two component model\n",
    "tcm_obs = tcm(sim_w)\n",
    "tcm_obs.shape"
   ]
  },
  {
   "cell_type": "code",
   "execution_count": null,
   "metadata": {},
   "outputs": [],
   "source": [
    "chi2 = chisquare(sim_f[:, np.newaxis, np.newaxis, np.newaxis], tcm_obs).statistic\n",
    "\n",
    "print(chi2.shape)\n",
    "min_indx = np.unravel_index(chi2.argmin(), chi2.shape)\n",
    "\n",
    "print(\"sim results\", alphas[min_indx[0]], min_rvs[indx[1]], gammas[min_indx[2]])\n",
    "print(\"answer\", answers)"
   ]
  },
  {
   "cell_type": "code",
   "execution_count": null,
   "metadata": {},
   "outputs": [],
   "source": [
    "# Putting resulted sim min values back into tcm model\n",
    "res = two_comp_model(w, h, c, alphas[min_indx[0]], rvs[min_indx[1]], gammas[min_indx[2]])\n",
    "\n",
    "res_f = res(sim_w)                  # Flux at the min min chisquare model evaulated at obs points."
   ]
  },
  {
   "cell_type": "code",
   "execution_count": null,
   "metadata": {
    "collapsed": true
   },
   "outputs": [],
   "source": [
    "# Compare to tcm generated simulation\n",
    "\n",
    "chi2_tcm = chisquare(tcm_sim_f, tcm_obs).statistic\n",
    "min_indx_tcm = np.unravel_index(chi2.argmin(), chi2.shape)\n",
    "\n",
    "print(\"tcm results\", alphas[min_indx_tcm[0]], rvs[min_indx_tcm[1]], gammas[min_indx_tcm[2]])\n",
    "print(\"answer\", answers)\n"
   ]
  },
  {
   "cell_type": "code",
   "execution_count": null,
   "metadata": {
    "collapsed": true
   },
   "outputs": [],
   "source": [
    "# Putting resulted tcm sim min values back into tcm model\n",
    "res_tcm = two_comp_model(w, h, c, alphas[min_indx[0]], rvs[min_indx[1]], gammas[min_indx[2]])\n",
    "    \n",
    "res_tcm_f = res_tcm(sim_w)    # Flux at the min min chisquare model evaulated at obs points.\n"
   ]
  },
  {
   "cell_type": "code",
   "execution_count": null,
   "metadata": {},
   "outputs": [],
   "source": [
    "\n",
    "plt.plot(sim_w, sim_f, \"--\", label=\"org\")\n",
    "plt.plot(sim_w, np.squeeze(res_f), label= \"2 comp\")\n",
    "plt.plot(sim_w, np.squeeze(res_tcm_f), label=\"fit to tcm sim\")\n",
    "plt.title(\"Comparison to Simulation\")\n",
    "plt.legend()\n",
    "plt.show()"
   ]
  },
  {
   "cell_type": "code",
   "execution_count": null,
   "metadata": {
    "collapsed": true
   },
   "outputs": [],
   "source": [
    "plt.close()\n",
    "plt.figure()"
   ]
  },
  {
   "cell_type": "code",
   "execution_count": null,
   "metadata": {
    "collapsed": true
   },
   "outputs": [],
   "source": [
    "plt.figure()\n",
    "plt.contourf(chi2[:,:,0])\n",
    "plt.figure()\n",
    "plt.contourf(chi2[0,:,:])\n"
   ]
  },
  {
   "cell_type": "code",
   "execution_count": null,
   "metadata": {
    "collapsed": true
   },
   "outputs": [],
   "source": [
    "plt.figure()\n",
    "plt.contourf(chi2[:,1,:])\n",
    "plt.figure()"
   ]
  },
  {
   "cell_type": "code",
   "execution_count": null,
   "metadata": {
    "collapsed": true
   },
   "outputs": [],
   "source": [
    "\n",
    "# Slice arrays to make contour maps\n",
    "\n",
    "xslice = np.arange(0, chi2.shape[0], 5)\n",
    "yslice = np.arange(0, chi2.shape[1], 5)\n",
    "zslice = np.arange(0, chi2.shape[2], 5)\n",
    "\n",
    "for xs in xslice:\n",
    "    plt.figure()\n",
    "    plt.contourf(chi2[xs, :, :])\n",
    "    plt.colorbar()\n",
    "    plt.title(\"x alpha = {}\".format(alphas[xs]))\n",
    "    plt.show()\n",
    "\n",
    "\n"
   ]
  },
  {
   "cell_type": "code",
   "execution_count": null,
   "metadata": {
    "collapsed": true
   },
   "outputs": [],
   "source": [
    "\n",
    "for ys in yslice:\n",
    "    plt.figure()\n",
    "    plt.contourf(chi2[:, ys, :])\n",
    "    plt.colorbar()\n",
    "    plt.title(\"y rvs = {}\".format(rvs[ys]))\n",
    "    plt.show()\n"
   ]
  },
  {
   "cell_type": "code",
   "execution_count": null,
   "metadata": {
    "collapsed": true
   },
   "outputs": [],
   "source": [
    "\n",
    "for zs in zslice:\n",
    "    plt.figure()\n",
    "    plt.contourf(chi2[:, :, zs])\n",
    "    plt.colorbar()\n",
    "    plt.title(\"z gammas = {}\".format(gammas[zs]))\n",
    "    plt.show()\n"
   ]
  },
  {
   "cell_type": "code",
   "execution_count": null,
   "metadata": {
    "collapsed": true
   },
   "outputs": [],
   "source": [
    "for xs in np.concatenate([xslice, yslice, zslice]):\n",
    "    plt.close()"
   ]
  },
  {
   "cell_type": "code",
   "execution_count": null,
   "metadata": {
    "collapsed": true
   },
   "outputs": [],
   "source": []
  },
  {
   "cell_type": "code",
   "execution_count": null,
   "metadata": {
    "collapsed": true
   },
   "outputs": [],
   "source": []
  }
 ],
 "metadata": {
  "kernelspec": {
   "display_name": "Python [conda root]",
   "language": "python",
   "name": "conda-root-py"
  },
  "language_info": {
   "codemirror_mode": {
    "name": "ipython",
    "version": 3
   },
   "file_extension": ".py",
   "mimetype": "text/x-python",
   "name": "python",
   "nbconvert_exporter": "python",
   "pygments_lexer": "ipython3",
   "version": "3.5.3"
  }
 },
 "nbformat": 4,
 "nbformat_minor": 2
}
