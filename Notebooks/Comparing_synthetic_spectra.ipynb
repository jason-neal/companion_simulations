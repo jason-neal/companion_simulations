{
 "cells": [
  {
   "cell_type": "markdown",
   "metadata": {},
   "source": [
    "# Comparing Phoenix Spectra"
   ]
  },
  {
   "cell_type": "markdown",
   "metadata": {},
   "source": [
    "Plot Phoenix aces and Phoenix BT-Settl for same parameters\n",
    "\n",
    "Also AMES Dusty Cond."
   ]
  },
  {
   "cell_type": "markdown",
   "metadata": {},
   "source": [
    "#### FORMAT OF THE SPECTRA OUTPUT FILES\n",
    "\n",
    "You can find the  pre-computed grids, also accessible via links on\n",
    "the bottom part of the simulator presentation page, or using this link:\n",
    "http://phoenix.ens-lyon.fr/Grids/\n",
    "\n",
    "The file names contain the main parameters of the models:\n",
    "lte{Teff/10}-{Logg}{[M/H]}a[alpha/H].GRIDNAME.7.spec.gz/bz2/xz\n",
    "is the synthetic spectrum for the requested effective temperature\n",
    "(Teff),surface gravity (Logg), metallicity by log10 number density with\n",
    "respect to solar values ([M/H]), and alpha element enhencement relative     \n",
    "to solar values [alpha/H]. The model grid is also mentioned in the name.\n",
    "\n",
    "Spectra are provided in an ascii format (\\*.7.gz):\n",
    "\n",
    "column1: wavelength in Angstroem\n",
    "column2: 10\\*\\*(F_lam + DF) to convert to Ergs/sec/cm\\*\\*2/A\n",
    "column3: 10\\*\\*(B_lam + DF) i.e. the blackbody fluxes of same Teff in same units.\n",
    "\n",
    "Additional columns, obtained systematically when computing spectra using the\n",
    "Phoenix simulator, give the information to identify atomic and molecular\n",
    "lines. This information is used by the idl scripts lineid.pro and plotid.pro \n",
    "which are provided in the user result package.  \n",
    "   \n",
    "With the stacked ascii format (\\*.spec.gz files ) we have rather:\n",
    "\n",
    "line1: Teff logg [M/H] of the model\n",
    "line2: number of wavelengths\n",
    "line3: F_lam(n) X 10\\*\\*DF , n=1,number of wavelengths\n",
    "lineX: B_lam(n) X 10\\*\\*DF , n=1,number of wavelengths\n"
   ]
  },
  {
   "cell_type": "code",
   "execution_count": 15,
   "metadata": {},
   "outputs": [],
   "source": [
    "from mingle.utilities.phoenix_utils import load_starfish_spectrum\n"
   ]
  },
  {
   "cell_type": "code",
   "execution_count": null,
   "metadata": {},
   "outputs": [],
   "source": [
    "def load_phoenix(name):\n",
    "    "
   ]
  },
  {
   "cell_type": "code",
   "execution_count": null,
   "metadata": {},
   "outputs": [],
   "source": []
  },
  {
   "cell_type": "code",
   "execution_count": 20,
   "metadata": {},
   "outputs": [],
   "source": [
    "\n",
    "def comparison_plot(name, teff, logg, feh):\n",
    "    \n",
    "    pars = teff, logg, feh\n"
   ]
  },
  {
   "cell_type": "code",
   "execution_count": 26,
   "metadata": {},
   "outputs": [],
   "source": [
    "Artucus = [4300, 1.50, -0.5]\n",
    "HD30501 = [5200, 4.5, 0.0]\n",
    "ACES_bottom = [2300, 4.5, 0.0]\n",
    "Sun = [5800, 4.5, 0.0]\n",
    "\n"
   ]
  },
  {
   "cell_type": "code",
   "execution_count": 27,
   "metadata": {},
   "outputs": [],
   "source": [
    "\n",
    "comparison_plot(\"Sun\", *Sun)\n",
    "\n",
    "\n"
   ]
  },
  {
   "cell_type": "code",
   "execution_count": 28,
   "metadata": {},
   "outputs": [],
   "source": [
    "\n",
    "comparison_plot(\"ACES_bottom\", *ACES_bottom)\n",
    "\n"
   ]
  },
  {
   "cell_type": "code",
   "execution_count": 29,
   "metadata": {},
   "outputs": [],
   "source": [
    "\n",
    "comparison_plot(\"Artucus\", *Artucus)\n",
    "\n",
    "\n"
   ]
  },
  {
   "cell_type": "code",
   "execution_count": 25,
   "metadata": {},
   "outputs": [],
   "source": [
    "\n",
    "comparison_plot(\"HD30501\", *HD30501)\n",
    "\n"
   ]
  },
  {
   "cell_type": "code",
   "execution_count": null,
   "metadata": {},
   "outputs": [],
   "source": []
  }
 ],
 "metadata": {
  "anaconda-cloud": {},
  "kernelspec": {
   "display_name": "Python [conda env:sims]",
   "language": "python",
   "name": "conda-env-sims-py"
  },
  "language_info": {
   "codemirror_mode": {
    "name": "ipython",
    "version": 3
   },
   "file_extension": ".py",
   "mimetype": "text/x-python",
   "name": "python",
   "nbconvert_exporter": "python",
   "pygments_lexer": "ipython3",
   "version": "3.6.2"
  }
 },
 "nbformat": 4,
 "nbformat_minor": 2
}
