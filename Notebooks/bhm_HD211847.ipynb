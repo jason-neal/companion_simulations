{
 "cells": [
  {
   "cell_type": "markdown",
   "metadata": {
    "collapsed": true
   },
   "source": [
    "# Chi sqaure analsys for the best host star model\n",
    "## HD211847\n",
    "\n",
    "\n",
    "\n",
    "\n"
   ]
  },
  {
   "cell_type": "code",
   "execution_count": null,
   "metadata": {},
   "outputs": [],
   "source": [
    "import sys\n",
    "\n",
    "sys.path.append(\"/home/jneal/Phd/Codes/companion_simulations/\")\n",
    "\n",
    "sys.path.append(\"/home/jneal/Phd/Codes/companion_simulations/utilities/\")\n",
    "sys.path.append(\"../../\")\n",
    "sys.path.append(\"../\")\n",
    "import param_file\n",
    "# from mingle.utilities.param_file import parse_paramfile\n",
    "#from best_host_model_HD211847 import main\n",
    "\n",
    "from param_file import parse_paramfile\n",
    "from Chisqr_of_observation import select_observation, load_spectrum\n"
   ]
  },
  {
   "cell_type": "code",
   "execution_count": null,
   "metadata": {
    "collapsed": true
   },
   "outputs": [],
   "source": []
  },
  {
   "cell_type": "code",
   "execution_count": null,
   "metadata": {},
   "outputs": [],
   "source": [
    "\n",
    "handy_path = lambda x ,y : \"/home/jneal/.hand_spectra/{0}-{1}-mixavg-tellcorr_{2}.fits\".format(x, y, z)\n",
    "\n",
    "star = \"HD211847\"\n",
    "comp = \"\"   # set to b or c if needed\n",
    "param_file = \"/home/jneal/Phd/data/parameter_files/{}{}_params.dat\".format(star, comp)\n",
    "host_parameters = parse_paramfile(param_file, path=None)\n",
    "obsnum = 1\n",
    "chip = 1\n",
    "obs_name_org = select_observation(star, obsnum, chip)\n",
    "obs_name_new = handy_path(star, chip)\n",
    "print(obs_name_org)\n",
    "print(obs_name_new)"
   ]
  },
  {
   "cell_type": "code",
   "execution_count": null,
   "metadata": {
    "collapsed": true
   },
   "outputs": [],
   "source": [
    "# Load observation\n",
    "uncorrected_spectra = load_spectrum(obs_name)\n",
    "observed_spectra = load_spectrum(obs_name)\n",
    "observed_spectra = barycorr_crires_spectrum(observed_spectra, extra_offset=None)\n",
    "observed_spectra.flux /= 1.02"
   ]
  },
  {
   "cell_type": "code",
   "execution_count": null,
   "metadata": {
    "collapsed": true
   },
   "outputs": [],
   "source": []
  },
  {
   "cell_type": "code",
   "execution_count": null,
   "metadata": {
    "scrolled": false
   },
   "outputs": [],
   "source": [
    "main()\n"
   ]
  },
  {
   "cell_type": "markdown",
   "metadata": {
    "collapsed": true
   },
   "source": []
  },
  {
   "cell_type": "code",
   "execution_count": null,
   "metadata": {
    "collapsed": true
   },
   "outputs": [],
   "source": []
  },
  {
   "cell_type": "code",
   "execution_count": null,
   "metadata": {
    "collapsed": true
   },
   "outputs": [],
   "source": []
  }
 ],
 "metadata": {
  "kernelspec": {
   "display_name": "Python [conda root]",
   "language": "python",
   "name": "conda-root-py"
  },
  "language_info": {
   "codemirror_mode": {
    "name": "ipython",
    "version": 3
   },
   "file_extension": ".py",
   "mimetype": "text/x-python",
   "name": "python",
   "nbconvert_exporter": "python",
   "pygments_lexer": "ipython3",
   "version": "3.5.3"
  }
 },
 "nbformat": 4,
 "nbformat_minor": 2
}
