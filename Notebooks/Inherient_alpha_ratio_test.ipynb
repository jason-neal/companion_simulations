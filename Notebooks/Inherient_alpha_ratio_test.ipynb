{
 "cells": [
  {
   "cell_type": "code",
   "execution_count": null,
   "metadata": {
    "collapsed": true
   },
   "outputs": [],
   "source": [
    "# Test calc alpha ratio from spectra\n",
    "from __future__ import print_function\n",
    "import copy\n",
    "import numpy as np\n",
    "from astropy.io import fits\n",
    "import matplotlib.pyplot as plt\n",
    "from spectrum_overload.Spectrum import Spectrum"
   ]
  },
  {
   "cell_type": "code",
   "execution_count": null,
   "metadata": {},
   "outputs": [],
   "source": [
    "wav_model = fits.getdata(\"/home/jneal/Phd/data/PHOENIX-ALL/PHOENIX/WAVE_PHOENIX-ACES-AGSS-COND-2011.fits\")\n",
    "wav_model /= 10   # nm\n",
    "host = \"/home/jneal/Phd/data/PHOENIX-ALL/PHOENIX/HD30501-lte05200-4.50-0.0.PHOENIX-ACES-AGSS-COND-2011-HiRes.fits\"\n",
    "companion = \"/home/jneal/Phd/data/PHOENIX-ALL/PHOENIX/HD30501b-lte02500-5.00-0.0.PHOENIX-ACES-AGSS-COND-2011-HiRes.fits\"\n",
    "host = \"/home/jneal/Phd/data/PHOENIX-ALL/PHOENIX/Z-0.0/lte05200-4.50-0.0.PHOENIX-ACES-AGSS-COND-2011-HiRes.fits\"\n",
    "companion = \"/home/jneal/Phd/data/PHOENIX-ALL/PHOENIX/Z-0.0/lte02600-5.00-0.0.PHOENIX-ACES-AGSS-COND-2011-HiRes.fits\"\n",
    "\n",
    "host_f = fits.getdata(host)\n",
    "comp_f = fits.getdata(companion)\n",
    "plt.plot(wav_model, host_f, label=\"Host\")\n",
    "plt.plot(wav_model, comp_f, label=\"Companion\")\n",
    "plt.title(\"Phoenix spectra\")\n",
    "plt.xlabel(\"Wavelength (nm)\")\n",
    "plt.legend()\n",
    "\n",
    "plt.show()\n",
    "\n",
    "mask = (2000 < wav_model) & (wav_model < 2200)\n",
    "wav_model = wav_model[mask] \n",
    "host_f = host_f[mask] \n",
    "comp_f = comp_f[mask] \n",
    "\n",
    "\n",
    "plt.plot(wav_model, host_f, label=\"Host\")\n",
    "plt.plot(wav_model, comp_f, label=\"Companion\")\n",
    "plt.title(\"Phoenix spectra\")\n",
    "plt.legend()\n",
    "plt.xlabel(\"Wavelength (nm)\")\n",
    "plt.show()\n",
    "\n",
    "# Transform flux from /cm to /nm \n",
    "host_f *= 1e-7\n",
    "comp_f *= 1e-7\n",
    "spec_host = Spectrum(xaxis=wav_model, flux=host_f, header=fits.getheader(host))\n",
    "spec_comp = Spectrum(xaxis=wav_model, flux=comp_f, header=fits.getheader(companion))\n",
    "\n",
    "print(spec_comp.flux)\n",
    "normal_ratio = spec_host / spec_comp\n",
    "print(\"normal_ratio\", np.mean(normal_ratio.flux), np.std(normal_ratio.flux))"
   ]
  },
  {
   "cell_type": "code",
   "execution_count": null,
   "metadata": {},
   "outputs": [],
   "source": [
    "def calc_alpha(model1, model2, chip=None, plot=False):\n",
    "    model1 = copy.copy(model1)\n",
    "    model2 = copy.copy(model2)\n",
    "    print(\"\\nChip {}\\n-------------------\".format(chip))\n",
    "    \"\"\"Inherint flux ratio between the two.\n",
    "\n",
    "    Need to ransform from spectrum per area to surface area of each star.\n",
    "\n",
    "    For Phoenix Models - header parameters\n",
    "    PHXLUM \t- [W]               Stellar luminosity\n",
    "    BUNIT \t- 'erg/s/cm^2/cm' \tUnit of flux\n",
    "    PHXREFF - [cm]              Effective stellar radius\n",
    "    \"\"\"\n",
    "    def spec_area(spec):\n",
    "        # BUNIT      'erg/s/cm^2/cm'   Unit of flux\n",
    "        # PHXREFF    67354000000.0  [cm] Effective stellar radius\n",
    "        radius = spec.header[\"PHXREFF\"] * 1e-11 # in Gm gigametre\n",
    "        area = np.pi * radius ** 2\n",
    "        return area\n",
    "    \n",
    "    area1 = spec_area(model1)\n",
    "    area2 = spec_area(model2)\n",
    "    \n",
    "    # print(area1, area2)\n",
    "    area_ratio = area2 / area1\n",
    "    print(\"area_ratio =\", area_ratio)\n",
    "\n",
    "    model1.flux = model1.flux* area1\n",
    "    model2.flux = model2.flux* area2\n",
    "    \n",
    "    if chip in range(1,5):\n",
    "        ratio = np.nanmean(model2.flux / model1.flux)\n",
    "        print(\"spec ratio\", ratio)\n",
    "        chip_limits = {1: [2111, 2124], 2: [2125, 2139], 3:[2140, 2152], 4: [2153,2169]}\n",
    "        model1.wav_select(*chip_limits[chip])\n",
    "        model2.wav_select(*chip_limits[chip])\n",
    "        chip_ratio = np.nanmean(model2.flux / model1.flux)\n",
    "    \n",
    "        print(\"chip {} ratio = {}\".format(chip, chip_ratio))\n",
    "    else:\n",
    "        model1.wav_select(2111, 2169)\n",
    "        model2.wav_select(2111, 2169)\n",
    "        full_ratio = np.nanmean(model2.flux / model1.flux)\n",
    "        print(\"full ratio\", full_ratio)\n",
    "        \n",
    "    lum_ratio = model2.header[\"PHXLUM\"] / model1.header[\"PHXLUM\"]\n",
    "    print(\"Lum ratio\", lum_ratio)\n",
    "    \n",
    "    if plot:\n",
    "        plt.figure\n",
    "        plt.plot(model1.xaxis, model1.flux, label=\"model1\")\n",
    "        plt.plot(model2.xaxis, model2.flux, label=\"model2\")\n",
    "        plt.legend()\n",
    "        plt.show()\n",
    "        model1.flux = model1.flux * area1 \n",
    "        model2.flux = model2.flux * area2\n",
    " \n",
    "        plt.figure \n",
    "        plt.plot(model1.xaxis, model1.flux, label=\"model1\")\n",
    "        plt.plot(model2.xaxis, model2.flux, label=\"model2\")\n",
    "        plt.title(\"area scaled\")\n",
    "        plt.legend()\n",
    "        plt.show()\n",
    "        plt.figure\n",
    "        plt.plot(full_ratio, label=\"model2/model1\")\n",
    "        plt.plot(spec_ratio, label=\"model2/model1\")\n",
    "        plt.plot(lum_ratio, label=\"model2/model1\")\n",
    "        # plt.hlines(lum_ratio, 0, len(ratio), linestyle='--', label=\"luminosity ratio\")\n",
    "        plt.legend()\n",
    "\n",
    "        plt.show()\n",
    "    \n",
    "    return model1, model2, lum_ratio\n"
   ]
  },
  {
   "cell_type": "code",
   "execution_count": null,
   "metadata": {},
   "outputs": [],
   "source": [
    "calc_alpha(spec_host, spec_comp, chip=None)"
   ]
  },
  {
   "cell_type": "code",
   "execution_count": null,
   "metadata": {},
   "outputs": [],
   "source": [
    "calc_alpha(spec_host, spec_comp, chip=None)\n",
    "calc_alpha(spec_host, spec_comp, chip=1)\n",
    "calc_alpha(spec_host, spec_comp, chip=2)\n",
    "calc_alpha(spec_host, spec_comp, chip=3)\n",
    "calc_alpha(spec_host, spec_comp, chip=4)"
   ]
  },
  {
   "cell_type": "markdown",
   "metadata": {
    "collapsed": true
   },
   "source": [
    "#### Create some Spectra"
   ]
  },
  {
   "cell_type": "code",
   "execution_count": null,
   "metadata": {},
   "outputs": [],
   "source": [
    "\n",
    "spec_host = Spectrum(xaxis=wav_model, flux=host_f/1e13, header=fits.getheader(host))\n",
    "spec_comp = Spectrum(xaxis=wav_model, flux=comp_f/1e13, header=fits.getheader(companion))\n",
    "\n",
    "\n",
    "spec_host2 = Spectrum(xaxis=wav_model, flux=host_f/1e13, header=fits.getheader(host))\n",
    "spec_comp2 = Spectrum(xaxis=wav_model, flux=comp_f/1e13, header=fits.getheader(companion))\n",
    "\n",
    "plt.plot(spec_host.xaxis, spec_host.flux, label=\"model1\")\n",
    "plt.plot(spec_host2.xaxis, spec_host2.flux, \"--\", label=\"model1b\")\n",
    "plt.plot(spec_comp.xaxis, spec_comp.flux, label=\"model2\")\n",
    "plt.plot(spec_comp2.xaxis, spec_comp2.flux, label=\"model2b\")\n",
    "plt.legend()\n",
    "plt.show()"
   ]
  },
  {
   "cell_type": "code",
   "execution_count": null,
   "metadata": {
    "collapsed": true
   },
   "outputs": [],
   "source": [
    "# Get Radius and determine area"
   ]
  },
  {
   "cell_type": "code",
   "execution_count": null,
   "metadata": {},
   "outputs": [],
   "source": [
    "r_host = spec_host.header[\"PHXREFF\"] / 1e11\n",
    "r_comp = spec_comp.header[\"PHXREFF\"] / 1e11\n",
    "print(\"r_host =\", r_host, \"\\nr_comp =\", r_comp)\n",
    "print(type(r_host))\n",
    "a_host = np.pi * r_host ** 2 \n",
    "a_comp = np.pi * r_comp ** 2 \n",
    "\n",
    "print(\"a_host =\", a_host, \"\\na_comp =\", a_comp)\n",
    "\n",
    "print(\"a_ratio =\", a_host/ a_comp, \"or\",  a_comp / a_host)\n"
   ]
  },
  {
   "cell_type": "code",
   "execution_count": null,
   "metadata": {},
   "outputs": [],
   "source": [
    "\n",
    "print(area1, area2, area2/area1, area1/area2)\n",
    "spec_host.flux = spec_host.flux  * a_host\n",
    "spec_comp.flux = spec_comp.flux * a_comp\n",
    "\n",
    "spec_ratio = spec_comp / spec_host\n",
    "spec_ratio2 = spec_comp2 / spec_host2\n",
    "plt.plot(spec_host.xaxis, spec_host.flux, label=\"model1\")\n",
    "#plt.plot(spec_host2.xaxis, spec_host2.flux / 1e4, \"--\", label=\"model1b\")\n",
    "plt.plot(spec_comp.xaxis, spec_comp.flux, label=\"model2\")\n",
    "plt.legend()\n",
    "plt.show()"
   ]
  },
  {
   "cell_type": "code",
   "execution_count": null,
   "metadata": {},
   "outputs": [],
   "source": [
    "\n",
    "plt.plot(spec_ratio.xaxis, spec_ratio.flux, label=\"with area\")\n",
    "plt.plot(spec_ratio2.xaxis, spec_ratio2.flux, label=\"without area\")\n",
    "plt.legend()\n",
    "plt.show()"
   ]
  },
  {
   "cell_type": "code",
   "execution_count": null,
   "metadata": {},
   "outputs": [],
   "source": [
    "np.mean(spec_ratio2.flux / spec_ratio.flux)"
   ]
  },
  {
   "cell_type": "code",
   "execution_count": null,
   "metadata": {
    "collapsed": true
   },
   "outputs": [],
   "source": []
  }
 ],
 "metadata": {
  "anaconda-cloud": {},
  "kernelspec": {
   "display_name": "Python [conda root]",
   "language": "python",
   "name": "conda-root-py"
  },
  "language_info": {
   "codemirror_mode": {
    "name": "ipython",
    "version": 3
   },
   "file_extension": ".py",
   "mimetype": "text/x-python",
   "name": "python",
   "nbconvert_exporter": "python",
   "pygments_lexer": "ipython3",
   "version": "3.5.3"
  }
 },
 "nbformat": 4,
 "nbformat_minor": 2
}
