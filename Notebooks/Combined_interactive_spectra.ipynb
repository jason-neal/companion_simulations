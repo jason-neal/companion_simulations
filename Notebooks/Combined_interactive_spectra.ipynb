{
 "cells": [
  {
   "cell_type": "markdown",
   "metadata": {
    "slideshow": {
     "slide_type": "slide"
    }
   },
   "source": [
    "# Interactive Spectra combination!"
   ]
  },
  {
   "cell_type": "code",
   "execution_count": 1,
   "metadata": {},
   "outputs": [],
   "source": [
    "from __future__ import print_function\n",
    "from ipywidgets import interact, interactive, fixed, interact_manual\n",
    "import ipywidgets as widgets\n",
    "import os\n",
    "from astropy.io import fits\n",
    "import matplotlib.pyplot as plt\n",
    "import numpy as np"
   ]
  },
  {
   "cell_type": "code",
   "execution_count": 2,
   "metadata": {},
   "outputs": [
    {
     "name": "stderr",
     "output_type": "stream",
     "text": [
      "/home/jneal/Phd/Codes/companion_simulations/simulators/__init__.py:7: UserWarning: \n",
      "This call to matplotlib.use() has no effect because the backend has already\n",
      "been chosen; matplotlib.use() must be called *before* pylab, matplotlib.pyplot,\n",
      "or matplotlib.backends is imported for the first time.\n",
      "\n",
      "The backend was *originally* set to 'module://ipykernel.pylab.backend_inline' by the following code:\n",
      "  File \"/home/jneal/anaconda3/envs/sims/lib/python3.6/runpy.py\", line 193, in _run_module_as_main\n",
      "    \"__main__\", mod_spec)\n",
      "  File \"/home/jneal/anaconda3/envs/sims/lib/python3.6/runpy.py\", line 85, in _run_code\n",
      "    exec(code, run_globals)\n",
      "  File \"/home/jneal/anaconda3/envs/sims/lib/python3.6/site-packages/ipykernel/__main__.py\", line 3, in <module>\n",
      "    app.launch_new_instance()\n",
      "  File \"/home/jneal/anaconda3/envs/sims/lib/python3.6/site-packages/traitlets/config/application.py\", line 658, in launch_instance\n",
      "    app.start()\n",
      "  File \"/home/jneal/anaconda3/envs/sims/lib/python3.6/site-packages/ipykernel/kernelapp.py\", line 478, in start\n",
      "    self.io_loop.start()\n",
      "  File \"/home/jneal/anaconda3/envs/sims/lib/python3.6/site-packages/zmq/eventloop/ioloop.py\", line 177, in start\n",
      "    super(ZMQIOLoop, self).start()\n",
      "  File \"/home/jneal/anaconda3/envs/sims/lib/python3.6/site-packages/tornado/ioloop.py\", line 888, in start\n",
      "    handler_func(fd_obj, events)\n",
      "  File \"/home/jneal/anaconda3/envs/sims/lib/python3.6/site-packages/tornado/stack_context.py\", line 277, in null_wrapper\n",
      "    return fn(*args, **kwargs)\n",
      "  File \"/home/jneal/anaconda3/envs/sims/lib/python3.6/site-packages/zmq/eventloop/zmqstream.py\", line 440, in _handle_events\n",
      "    self._handle_recv()\n",
      "  File \"/home/jneal/anaconda3/envs/sims/lib/python3.6/site-packages/zmq/eventloop/zmqstream.py\", line 472, in _handle_recv\n",
      "    self._run_callback(callback, msg)\n",
      "  File \"/home/jneal/anaconda3/envs/sims/lib/python3.6/site-packages/zmq/eventloop/zmqstream.py\", line 414, in _run_callback\n",
      "    callback(*args, **kwargs)\n",
      "  File \"/home/jneal/anaconda3/envs/sims/lib/python3.6/site-packages/tornado/stack_context.py\", line 277, in null_wrapper\n",
      "    return fn(*args, **kwargs)\n",
      "  File \"/home/jneal/anaconda3/envs/sims/lib/python3.6/site-packages/ipykernel/kernelbase.py\", line 281, in dispatcher\n",
      "    return self.dispatch_shell(stream, msg)\n",
      "  File \"/home/jneal/anaconda3/envs/sims/lib/python3.6/site-packages/ipykernel/kernelbase.py\", line 232, in dispatch_shell\n",
      "    handler(stream, idents, msg)\n",
      "  File \"/home/jneal/anaconda3/envs/sims/lib/python3.6/site-packages/ipykernel/kernelbase.py\", line 397, in execute_request\n",
      "    user_expressions, allow_stdin)\n",
      "  File \"/home/jneal/anaconda3/envs/sims/lib/python3.6/site-packages/ipykernel/ipkernel.py\", line 208, in do_execute\n",
      "    res = shell.run_cell(code, store_history=store_history, silent=silent)\n",
      "  File \"/home/jneal/anaconda3/envs/sims/lib/python3.6/site-packages/ipykernel/zmqshell.py\", line 533, in run_cell\n",
      "    return super(ZMQInteractiveShell, self).run_cell(*args, **kwargs)\n",
      "  File \"/home/jneal/anaconda3/envs/sims/lib/python3.6/site-packages/IPython/core/interactiveshell.py\", line 2739, in run_cell\n",
      "    self.events.trigger('post_run_cell')\n",
      "  File \"/home/jneal/anaconda3/envs/sims/lib/python3.6/site-packages/IPython/core/events.py\", line 73, in trigger\n",
      "    func(*args, **kwargs)\n",
      "  File \"/home/jneal/anaconda3/envs/sims/lib/python3.6/site-packages/ipykernel/pylab/backend_inline.py\", line 160, in configure_once\n",
      "    activate_matplotlib(backend)\n",
      "  File \"/home/jneal/anaconda3/envs/sims/lib/python3.6/site-packages/IPython/core/pylabtools.py\", line 308, in activate_matplotlib\n",
      "    matplotlib.pyplot.switch_backend(backend)\n",
      "  File \"/home/jneal/anaconda3/envs/sims/lib/python3.6/site-packages/matplotlib/pyplot.py\", line 232, in switch_backend\n",
      "    matplotlib.use(newbackend, warn=False, force=True)\n",
      "  File \"/home/jneal/anaconda3/envs/sims/lib/python3.6/site-packages/matplotlib/__init__.py\", line 1305, in use\n",
      "    reload(sys.modules['matplotlib.backends'])\n",
      "  File \"/home/jneal/anaconda3/envs/sims/lib/python3.6/importlib/__init__.py\", line 166, in reload\n",
      "    _bootstrap._exec(spec, module)\n",
      "  File \"/home/jneal/anaconda3/envs/sims/lib/python3.6/site-packages/matplotlib/backends/__init__.py\", line 14, in <module>\n",
      "    line for line in traceback.format_stack()\n",
      "\n",
      "\n",
      "  matplotlib.use('Agg')\n",
      "/home/jneal/Phd/Codes/companion_simulations/mingle/utilities/__init__.py:3: UserWarning: \n",
      "This call to matplotlib.use() has no effect because the backend has already\n",
      "been chosen; matplotlib.use() must be called *before* pylab, matplotlib.pyplot,\n",
      "or matplotlib.backends is imported for the first time.\n",
      "\n",
      "The backend was *originally* set to 'module://ipykernel.pylab.backend_inline' by the following code:\n",
      "  File \"/home/jneal/anaconda3/envs/sims/lib/python3.6/runpy.py\", line 193, in _run_module_as_main\n",
      "    \"__main__\", mod_spec)\n",
      "  File \"/home/jneal/anaconda3/envs/sims/lib/python3.6/runpy.py\", line 85, in _run_code\n",
      "    exec(code, run_globals)\n",
      "  File \"/home/jneal/anaconda3/envs/sims/lib/python3.6/site-packages/ipykernel/__main__.py\", line 3, in <module>\n",
      "    app.launch_new_instance()\n",
      "  File \"/home/jneal/anaconda3/envs/sims/lib/python3.6/site-packages/traitlets/config/application.py\", line 658, in launch_instance\n",
      "    app.start()\n",
      "  File \"/home/jneal/anaconda3/envs/sims/lib/python3.6/site-packages/ipykernel/kernelapp.py\", line 478, in start\n",
      "    self.io_loop.start()\n",
      "  File \"/home/jneal/anaconda3/envs/sims/lib/python3.6/site-packages/zmq/eventloop/ioloop.py\", line 177, in start\n",
      "    super(ZMQIOLoop, self).start()\n",
      "  File \"/home/jneal/anaconda3/envs/sims/lib/python3.6/site-packages/tornado/ioloop.py\", line 888, in start\n",
      "    handler_func(fd_obj, events)\n",
      "  File \"/home/jneal/anaconda3/envs/sims/lib/python3.6/site-packages/tornado/stack_context.py\", line 277, in null_wrapper\n",
      "    return fn(*args, **kwargs)\n",
      "  File \"/home/jneal/anaconda3/envs/sims/lib/python3.6/site-packages/zmq/eventloop/zmqstream.py\", line 440, in _handle_events\n",
      "    self._handle_recv()\n",
      "  File \"/home/jneal/anaconda3/envs/sims/lib/python3.6/site-packages/zmq/eventloop/zmqstream.py\", line 472, in _handle_recv\n",
      "    self._run_callback(callback, msg)\n",
      "  File \"/home/jneal/anaconda3/envs/sims/lib/python3.6/site-packages/zmq/eventloop/zmqstream.py\", line 414, in _run_callback\n",
      "    callback(*args, **kwargs)\n",
      "  File \"/home/jneal/anaconda3/envs/sims/lib/python3.6/site-packages/tornado/stack_context.py\", line 277, in null_wrapper\n",
      "    return fn(*args, **kwargs)\n",
      "  File \"/home/jneal/anaconda3/envs/sims/lib/python3.6/site-packages/ipykernel/kernelbase.py\", line 281, in dispatcher\n",
      "    return self.dispatch_shell(stream, msg)\n",
      "  File \"/home/jneal/anaconda3/envs/sims/lib/python3.6/site-packages/ipykernel/kernelbase.py\", line 232, in dispatch_shell\n",
      "    handler(stream, idents, msg)\n",
      "  File \"/home/jneal/anaconda3/envs/sims/lib/python3.6/site-packages/ipykernel/kernelbase.py\", line 397, in execute_request\n",
      "    user_expressions, allow_stdin)\n",
      "  File \"/home/jneal/anaconda3/envs/sims/lib/python3.6/site-packages/ipykernel/ipkernel.py\", line 208, in do_execute\n",
      "    res = shell.run_cell(code, store_history=store_history, silent=silent)\n",
      "  File \"/home/jneal/anaconda3/envs/sims/lib/python3.6/site-packages/ipykernel/zmqshell.py\", line 533, in run_cell\n",
      "    return super(ZMQInteractiveShell, self).run_cell(*args, **kwargs)\n",
      "  File \"/home/jneal/anaconda3/envs/sims/lib/python3.6/site-packages/IPython/core/interactiveshell.py\", line 2739, in run_cell\n",
      "    self.events.trigger('post_run_cell')\n",
      "  File \"/home/jneal/anaconda3/envs/sims/lib/python3.6/site-packages/IPython/core/events.py\", line 73, in trigger\n",
      "    func(*args, **kwargs)\n",
      "  File \"/home/jneal/anaconda3/envs/sims/lib/python3.6/site-packages/ipykernel/pylab/backend_inline.py\", line 160, in configure_once\n",
      "    activate_matplotlib(backend)\n",
      "  File \"/home/jneal/anaconda3/envs/sims/lib/python3.6/site-packages/IPython/core/pylabtools.py\", line 308, in activate_matplotlib\n",
      "    matplotlib.pyplot.switch_backend(backend)\n",
      "  File \"/home/jneal/anaconda3/envs/sims/lib/python3.6/site-packages/matplotlib/pyplot.py\", line 232, in switch_backend\n",
      "    matplotlib.use(newbackend, warn=False, force=True)\n",
      "  File \"/home/jneal/anaconda3/envs/sims/lib/python3.6/site-packages/matplotlib/__init__.py\", line 1305, in use\n",
      "    reload(sys.modules['matplotlib.backends'])\n",
      "  File \"/home/jneal/anaconda3/envs/sims/lib/python3.6/importlib/__init__.py\", line 166, in reload\n",
      "    _bootstrap._exec(spec, module)\n",
      "  File \"/home/jneal/anaconda3/envs/sims/lib/python3.6/site-packages/matplotlib/backends/__init__.py\", line 14, in <module>\n",
      "    line for line in traceback.format_stack()\n",
      "\n",
      "\n",
      "  matplotlib.use('Agg')\n"
     ]
    }
   ],
   "source": [
    "import simulators\n",
    "from mingle.utilities.phoenix_utils import load_starfish_spectrum\n",
    "from simulators.iam_module import prepare_iam_model_spectra\n"
   ]
  },
  {
   "cell_type": "code",
   "execution_count": 7,
   "metadata": {
    "slideshow": {
     "slide_type": "slide"
    }
   },
   "outputs": [
    {
     "data": {
      "image/png": "[encoded data removed]",
      "text/plain": [
       "<matplotlib.figure.Figure at 0x7f36a6afbba8>"
      ]
     },
     "metadata": {},
     "output_type": "display_data"
    },
    {
     "name": "stdout",
     "output_type": "stream",
     "text": [
      "Agerage flux ratio 0.020965876730824468\n"
     ]
    }
   ],
   "source": [
    "def load(teff, logg, feh, xmin=21500, xmax=22000):\n",
    "    # Replace with path to model files\n",
    "    name = os.path.join(\"PHOENIX\", \"Z{0:+1.10}\".format(float(feh)),\n",
    "        \"lte{0:05d}-{1:1.02f}{2:+1.10}.PHOENIX-ACES-AGSS-COND-2011-HiRes.fits\".format(teff, float(logg), float(feh)))\n",
    "    \n",
    "    if feh == 0:\n",
    "        name = name.replace(\"Z+0.0\", \"Z-0.0\")\n",
    "        name = name.replace(\"+0.0.PHOENIX\", \"-0.0.PHOENIX\")\n",
    "    flux = fits.getdata(name)\n",
    "    wav = fits.getdata(os.path.join(\"PHOENIX\", \"WAVE_PHOENIX-ACES-AGSS-COND-2011.fits\"))\n",
    "    mask = (wav < xmax) * (wav > xmin)\n",
    "\n",
    "    return wav[mask], flux[mask]\n",
    "\n",
    "    \n",
    "@interact(teff_1=widgets.IntSlider(min=2300, max=8000, step=100, value=5600),\n",
    "          logg_1=widgets.FloatSlider(min=3, max=5.5, step=0.5, value=4.5),\n",
    "          feh_1=widgets.FloatSlider(min=-2, max=1, step=0.5, value=0),\n",
    "          teff_2=widgets.IntSlider(min=2300, max=7000, step=100, value=2300),\n",
    "          logg_2=widgets.FloatSlider(min=3, max=5.5, step=0.5, value=4.5),\n",
    "          feh_2=widgets.FloatSlider(min=-2, max=1, step=0.5, value=0),\n",
    "          xmin=widgets.FloatSlider(min=900, max=4900, step=500, value=2200),\n",
    "          window=widgets.FloatSlider(min=10, max=100, step=10, value=50),\n",
    "          combined=widgets.Checkbox(False),\n",
    "          SNR=widgets.FloatSlider(min=1, max=100, step=1, value=50),\n",
    "          rv=widgets.FloatSlider(min=-20, max=20, step=1, value=-5),\n",
    "          gamma=widgets.FloatSlider(min=-21, max=20, step=1, value=10))\n",
    "def plt_spectrum(teff_1, logg_1, feh_1, teff_2, logg_2, feh_2, xmin=2100, window=100, combined=False, noise=100, rv=0, gamma=0):\n",
    "    host, comp = prepare_iam_model_spectra([teff_1, logg_1, feh_1], [teff_2, logg_2, feh_2], limits=[1000, 3000])\n",
    "    #wav, flux = load(teff, logg, feh, xmin, xmin+window)\n",
    "    \n",
    "    host.plot( label=\"host\")\n",
    "    comp.plot(label=\"companion\")\n",
    "    plt.ylabel(\"Flux\")\n",
    "    plt.xlabel(\"Wavelength (nm)\")\n",
    "    plt.title(\"Phoenix-ACES Model Spectra\")\n",
    "    plt.legend()\n",
    "    plt.show()\n",
    "    \n",
    "    print(\"Agerage flux ratio {}\".format(np.median(comp.flux/host.flux)))\n",
    "                       \n",
    "                       "
   ]
  },
  {
   "cell_type": "code",
   "execution_count": 4,
   "metadata": {
    "slideshow": {
     "slide_type": "slide"
    }
   },
   "outputs": [
    {
     "data": {
      "image/png": "[encoded data removed]",
      "text/plain": [
       "<matplotlib.figure.Figure at 0x7f36bd75b438>"
      ]
     },
     "metadata": {},
     "output_type": "display_data"
    }
   ],
   "source": [
    "def load(teff, logg, feh, xmin=21500, xmax=22000):\n",
    "    # Replace with path to model files\n",
    "    name = os.path.join(\"/home/jneal/Phd/data/PHOENIX-ALL\", \"PHOENIX\", \"Z{0:+1.10}\".format(float(feh)),\n",
    "        \"lte{0:05d}-{1:1.02f}{2:+1.10}.PHOENIX-ACES-AGSS-COND-2011-HiRes.fits\".format(teff, float(logg), float(feh)))\n",
    "    \n",
    "    if feh == 0:\n",
    "        name = name.replace(\"Z+0.0\", \"Z-0.0\")\n",
    "        name = name.replace(\"+0.0.PHOENIX\", \"-0.0.PHOENIX\")\n",
    "    flux = fits.getdata(name)\n",
    "    wav = fits.getdata(os.path.join(\"/home/jneal/Phd/data/PHOENIX-ALL\",\"PHOENIX\", \"WAVE_PHOENIX-ACES-AGSS-COND-2011.fits\"))\n",
    "    mask = (wav < xmax) * (wav > xmin)\n",
    "\n",
    "    return wav[mask], flux[mask]\n",
    "\n",
    "    \n",
    "@interact(teff=widgets.IntSlider(min=2300, max=8000, step=100, value=5600),\n",
    "          logg=widgets.FloatSlider(min=3, max=5.5, step=0.5, value=4.5),\n",
    "          feh=widgets.FloatSlider(min=-2, max=1, step=0.5, value=0),\n",
    "          xmin=widgets.FloatSlider(min=900, max=49000, step=500, value=22000),\n",
    "          window=widgets.FloatSlider(min=10, max=1000, step=10, value=50),\n",
    "          )\n",
    "def plt_spectrum(teff, logg, feh, xmin=2100, window=100,):\n",
    "    wav, flux = load(teff, logg, feh, xmin, xmin+window)\n",
    "    \n",
    "    plt.plot(wav, flux)\n",
    "    plt.ylabel(\"Flux\")\n",
    "    plt.xlabel(\"Wavelength (nm)\")\n",
    "    plt.title(\"Phoenix-ACES Model Spectra\")\n",
    "    #plt.legend()\n",
    "    plt.show()\n",
    "                  \n",
    "                       "
   ]
  },
  {
   "cell_type": "code",
   "execution_count": 5,
   "metadata": {},
   "outputs": [
    {
     "data": {
      "application/vnd.jupyter.widget-view+json": {
       "model_id": "f8bb7cadd96947728bbea6adab9f7b59",
       "version_major": 2,
       "version_minor": 0
      },
      "text/html": [
       "<p>Failed to display Jupyter Widget of type <code>IntSlider</code>.</p>\n",
       "<p>\n",
       "  If you're reading this message in the Jupyter Notebook or JupyterLab Notebook, it may mean\n",
       "  that the widgets JavaScript is still loading. If this message persists, it\n",
       "  likely means that the widgets JavaScript library is either not installed or\n",
       "  not enabled. See the <a href=\"https://ipywidgets.readthedocs.io/en/stable/user_install.html\">Jupyter\n",
       "  Widgets Documentation</a> for setup instructions.\n",
       "</p>\n",
       "<p>\n",
       "  If you're reading this message in another frontend (for example, a static\n",
       "  rendering on GitHub or <a href=\"https://nbviewer.jupyter.org/\">NBViewer</a>),\n",
       "  it may mean that your frontend doesn't currently support widgets.\n",
       "</p>\n"
      ],
      "text/plain": [
       "IntSlider(value=0)"
      ]
     },
     "metadata": {},
     "output_type": "display_data"
    }
   ],
   "source": [
    "\n",
    "widgets.IntSlider()\n",
    "\n"
   ]
  },
  {
   "cell_type": "code",
   "execution_count": null,
   "metadata": {},
   "outputs": [],
   "source": []
  },
  {
   "cell_type": "code",
   "execution_count": null,
   "metadata": {},
   "outputs": [],
   "source": []
  }
 ],
 "metadata": {
  "kernelspec": {
   "display_name": "Python [conda env:sims]",
   "language": "python",
   "name": "conda-env-sims-py"
  },
  "language_info": {
   "codemirror_mode": {
    "name": "ipython",
    "version": 3
   },
   "file_extension": ".py",
   "mimetype": "text/x-python",
   "name": "python",
   "nbconvert_exporter": "python",
   "pygments_lexer": "ipython3",
   "version": "3.6.3"
  }
 },
 "nbformat": 4,
 "nbformat_minor": 2
}
