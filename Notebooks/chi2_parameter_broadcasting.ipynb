{
 "cells": [
  {
   "cell_type": "markdown",
   "metadata": {},
   "source": [
    "# Interpolate wavelength on multiple dimensions\n",
    "\n",
    "### Jason Neal - 19th July 2017\n",
    "To try and interpolate N-D data along the first axis.\n",
    "\n",
    "This is to be able to perfrom chisquare analsysis for many parameters."
   ]
  },
  {
   "cell_type": "code",
   "execution_count": null,
   "metadata": {
    "collapsed": true
   },
   "outputs": [],
   "source": [
    "import numpy as np\n",
    "import scipy as sp\n",
    "from scipy.stats import chisquare\n",
    "import matplotlib.pyplot as plt\n",
    "%matplotlib inline"
   ]
  },
  {
   "cell_type": "markdown",
   "metadata": {},
   "source": [
    "The model we have is obs (w, f), and model (wm, fm).\n",
    "\n",
    "the model is combined (x + (y*a)*v) * gamma    two doppler shifts of v and gamma.\n",
    "\n",
    "We either need to be able to perform broadcasting inside Pyastronomy.dopplershift, or do it ourselves and interpolate.\n"
   ]
  },
  {
   "cell_type": "code",
   "execution_count": null,
   "metadata": {
    "collapsed": true
   },
   "outputs": [],
   "source": [
    "w = np.arange(20)\n",
    "A = 1.7\n",
    "S = 1.1\n",
    "f = A * np.sin(w) + S\n",
    "\n",
    "plt.plot(w, f, label=\"data\")\n",
    "plt.legend()\n",
    "plt.show()\n"
   ]
  },
  {
   "cell_type": "code",
   "execution_count": null,
   "metadata": {
    "collapsed": true
   },
   "outputs": [],
   "source": [
    "wm = np.linspace(-3,23, 50)\n",
    "fm = np.sin(wm)\n",
    "plt.plot(wm, fm, label=\"model\")\n",
    "plt.plot(w, f, label=\"data\")\n",
    "plt.show()"
   ]
  },
  {
   "cell_type": "markdown",
   "metadata": {},
   "source": [
    "# Add a second axis for the amplitude"
   ]
  },
  {
   "cell_type": "code",
   "execution_count": null,
   "metadata": {
    "collapsed": true
   },
   "outputs": [],
   "source": [
    "a = np.arange(1.3, 2, 0.05)\n",
    "print(a)\n",
    "a.shape"
   ]
  },
  {
   "cell_type": "code",
   "execution_count": null,
   "metadata": {
    "collapsed": true
   },
   "outputs": [],
   "source": [
    "fma  = fm[:, None] * a    # Each column is \n",
    "fma.shape"
   ]
  },
  {
   "cell_type": "code",
   "execution_count": null,
   "metadata": {
    "collapsed": true
   },
   "outputs": [],
   "source": [
    "# make wavelength axis also the same\n",
    "wma = wm[:, None] * np.ones_like(a)\n",
    "wma.shape"
   ]
  },
  {
   "cell_type": "code",
   "execution_count": null,
   "metadata": {
    "collapsed": true
   },
   "outputs": [],
   "source": [
    "# Need to interpolate fma from wma to w\n",
    "# np.interp does not work on 2d.\n",
    "w_func = sp.interpolate.interp1d(wm, fma, axis=0, kind=\"slinear\")\n",
    "\n"
   ]
  },
  {
   "cell_type": "code",
   "execution_count": null,
   "metadata": {
    "collapsed": true
   },
   "outputs": [],
   "source": [
    "fma_interp = w_func(w)\n",
    "#fma_cube = w_func(w)\n",
    "#fma_spl = w_func(w)\n",
    "fma_interp.shape"
   ]
  },
  {
   "cell_type": "code",
   "execution_count": null,
   "metadata": {
    "collapsed": true
   },
   "outputs": [],
   "source": [
    "plt.plot(w, fma_interp)\n",
    "plt.plot(w, f,  \"--\", label=\"data\")\n",
    "plt.legend()\n",
    "plt.show()"
   ]
  },
  {
   "cell_type": "code",
   "execution_count": null,
   "metadata": {
    "collapsed": true
   },
   "outputs": [],
   "source": [
    "chi2 = np.sum((f[:, None] - fma_interp)**2 / fma_interp, axis=0)\n",
    "\n",
    "plt.plot(a, chi2, label=\"chi2\")\n",
    "plt.legend()\n",
    "plt.show()\n"
   ]
  },
  {
   "cell_type": "code",
   "execution_count": null,
   "metadata": {
    "collapsed": true
   },
   "outputs": [],
   "source": [
    "# Find the minimum value\n",
    "m = np.argmin(chi2)\n",
    "a_min = a[m]\n",
    "a_min"
   ]
  },
  {
   "cell_type": "markdown",
   "metadata": {},
   "source": [
    "# Add a third axis for a vertical shift\n"
   ]
  },
  {
   "cell_type": "code",
   "execution_count": null,
   "metadata": {
    "collapsed": true
   },
   "outputs": [],
   "source": [
    "shift = np.arange(0.1, 1.3, 0.1)\n",
    "print(len(shift))\n",
    "fmas = fma[:, :, None] + shift\n",
    "fmas.shape\n"
   ]
  },
  {
   "cell_type": "code",
   "execution_count": null,
   "metadata": {
    "collapsed": true
   },
   "outputs": [],
   "source": [
    "wmas = wma[:, :, None] * np.ones_like(shift)\n",
    "wmas.shape"
   ]
  },
  {
   "cell_type": "code",
   "execution_count": null,
   "metadata": {
    "collapsed": true
   },
   "outputs": [],
   "source": [
    "print(wm.shape)\n",
    "print(fmas.shape)\n",
    "w_sfunc = sp.interpolate.interp1d(wm, fmas, axis=0, kind=\"slinear\")\n",
    "\n",
    "fmas_interp = w_sfunc(w)\n",
    "fmas_interp.shape"
   ]
  },
  {
   "cell_type": "code",
   "execution_count": null,
   "metadata": {
    "collapsed": true
   },
   "outputs": [],
   "source": [
    "plt.plot(w, fmas_interp[:,3, :])\n",
    "plt.plot(w, f,  \"--\", label=\"data\")\n",
    "plt.legend()\n",
    "plt.show()"
   ]
  },
  {
   "cell_type": "code",
   "execution_count": null,
   "metadata": {
    "collapsed": true
   },
   "outputs": [],
   "source": [
    "chi2s = np.sum((f[:, None, None] - fmas_interp)**2 / fmas_interp, axis=0)\n",
    "\n",
    "plt.plot(a, chi2s, label=\"chi2\")\n",
    "plt.legend()\n",
    "plt.show()\n"
   ]
  },
  {
   "cell_type": "code",
   "execution_count": null,
   "metadata": {
    "collapsed": true
   },
   "outputs": [],
   "source": [
    "X, Y = np.meshgrid(shift, a)\n",
    "print(X.shape)\n",
    "plt.contourf(X, Y, chi2s)\n",
    "plt.colorbar()\n",
    "plt.plot()\n",
    "plt.show()\n",
    "chi2s.shape"
   ]
  },
  {
   "cell_type": "code",
   "execution_count": null,
   "metadata": {
    "collapsed": true
   },
   "outputs": [],
   "source": [
    "c2min = chi2s.argmin()\n",
    "print(c2min)\n",
    "chi2s[np.unravel_index(c2min, chi2s.shape)]"
   ]
  },
  {
   "cell_type": "code",
   "execution_count": null,
   "metadata": {
    "collapsed": true
   },
   "outputs": [],
   "source": [
    "np.unravel_index(976, (140, 7))\n",
    "\n"
   ]
  },
  {
   "cell_type": "code",
   "execution_count": null,
   "metadata": {
    "collapsed": true
   },
   "outputs": [],
   "source": [
    "plt.contour(chi2s)\n",
    "plt.show()"
   ]
  },
  {
   "cell_type": "code",
   "execution_count": null,
   "metadata": {
    "collapsed": true
   },
   "outputs": [],
   "source": []
  },
  {
   "cell_type": "markdown",
   "metadata": {},
   "source": [
    "# Interpolating different wavelength axis. \n",
    "\n",
    "Each wl dimension has a dopplershift added.\n"
   ]
  },
  {
   "cell_type": "code",
   "execution_count": null,
   "metadata": {
    "collapsed": true
   },
   "outputs": [],
   "source": [
    "c = 500\n",
    "vc = (1 + np.arange(10) / c)\n",
    "print(wm.shape)\n",
    "print(vc.shape)\n",
    "doppler =  wm[:, np.newaxis] *  vc\n",
    "\n",
    "print(doppler.shape)\n",
    "#print(doppler)\n",
    "\n"
   ]
  },
  {
   "cell_type": "code",
   "execution_count": null,
   "metadata": {
    "collapsed": true
   },
   "outputs": [],
   "source": [
    "plt.plot(doppler, fmas[:,:,5])\n",
    "plt.show()"
   ]
  },
  {
   "cell_type": "code",
   "execution_count": null,
   "metadata": {
    "collapsed": true
   },
   "outputs": [],
   "source": [
    "# doppler_interp = sp.interpolate.interp1d(doppler, fm)\n",
    "print(len(wm))\n",
    "print(len(vc))\n",
    "print(fma.shape)    # fma includes the amplitude also.\n",
    "# Cannot inperpolate directly for all the different wavelengths at once. Therefore\n",
    "dims = fmas.shape + (len(vc),)  # add extra arry to dim\n",
    "print(dims)\n",
    "result = np.empty(dims)\n",
    "print(result.shape)\n",
    "for i, v in enumerate(vc):\n",
    "    wm_vc = wm * v\n",
    "    #  print(wm_vc.shape)\n",
    "    #  print(fma.shape)\n",
    "    func = sp.interpolate.interp1d(wm_vc, fmas, axis=0, bounds_error=False, fill_value=99999)\n",
    "    # print(func(wm))\n",
    "    result[:,:, :, i] = func(wm)\n"
   ]
  },
  {
   "cell_type": "code",
   "execution_count": null,
   "metadata": {
    "collapsed": true
   },
   "outputs": [],
   "source": [
    "print(result)"
   ]
  },
  {
   "cell_type": "markdown",
   "metadata": {},
   "source": [
    "# This lets me doppler shift the wavelength and return it to wm.\n",
    "\n",
    "In the second case for model I will just want to return it to the wavelength values of the observation."
   ]
  },
  {
   "cell_type": "code",
   "execution_count": null,
   "metadata": {
    "collapsed": true
   },
   "outputs": [],
   "source": [
    "# interp to obs\n",
    "func = sp.interpolate.interp1d(wm, result, axis=0, bounds_error=False, fill_value=np.nan)\n",
    "fmasd = func(w)\n",
    "chi2d = np.sum((f[:, None, None, np.newaxis] - fmasd)**2 / fmasd, axis=0)\n",
    "chi2d"
   ]
  },
  {
   "cell_type": "code",
   "execution_count": null,
   "metadata": {
    "collapsed": true
   },
   "outputs": [],
   "source": [
    "chi2d.shape\n"
   ]
  },
  {
   "cell_type": "code",
   "execution_count": null,
   "metadata": {
    "collapsed": true
   },
   "outputs": [],
   "source": [
    "fmasd.shape"
   ]
  },
  {
   "cell_type": "code",
   "execution_count": null,
   "metadata": {
    "collapsed": true
   },
   "outputs": [],
   "source": [
    "a.shape"
   ]
  },
  {
   "cell_type": "code",
   "execution_count": null,
   "metadata": {
    "collapsed": true
   },
   "outputs": [],
   "source": [
    "# Try a 3d chisquare \n",
    "\n",
    "x_2 = chisquare(f[:, np.newaxis, np.newaxis, np.newaxis], fmasd, axis=0).statistic\n",
    "\n",
    "x_2.argmin()\n",
    "vals = np.unravel_index(x_2.argmin(), x_2.shape)\n",
    "print(\"index of min = \", vals)   # returns the minimum index location\n",
    "\n",
    "\n"
   ]
  },
  {
   "cell_type": "markdown",
   "metadata": {},
   "source": [
    " This provides a framework for chisquare of large arrays. for my simulations"
   ]
  },
  {
   "cell_type": "code",
   "execution_count": null,
   "metadata": {
    "collapsed": true
   },
   "outputs": [],
   "source": [
    "plt.title(\"shift min\")\n",
    "plt.contourf(x_2[:,3,:])\n",
    "plt.show()\n",
    "\n",
    "plt.contourf(x_2[4,:,:])\n",
    "plt.title(\"amplitude min\")\n",
    "plt.show()\n",
    "\n",
    "plt.contourf(x_2[:,:,4])\n",
    "plt.title(\"doppler min\")\n",
    "plt.show()"
   ]
  },
  {
   "cell_type": "markdown",
   "metadata": {},
   "source": [
    "Currently these plots do not look very informative. I will need to remove the bad interpolation values also."
   ]
  },
  {
   "cell_type": "code",
   "execution_count": null,
   "metadata": {
    "collapsed": true
   },
   "outputs": [],
   "source": []
  }
 ],
 "metadata": {
  "kernelspec": {
   "display_name": "Python [conda root]",
   "language": "python",
   "name": "conda-root-py"
  },
  "language_info": {
   "codemirror_mode": {
    "name": "ipython",
    "version": 3
   },
   "file_extension": ".py",
   "mimetype": "text/x-python",
   "name": "python",
   "nbconvert_exporter": "python",
   "pygments_lexer": "ipython3",
   "version": "3.5.3"
  }
 },
 "nbformat": 4,
 "nbformat_minor": 2
}
