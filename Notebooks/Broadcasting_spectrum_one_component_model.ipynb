{
 "cells": [
  {
   "cell_type": "markdown",
   "metadata": {},
   "source": [
    "# Broadcasting on aspectrum - One component model"
   ]
  },
  {
   "cell_type": "code",
   "execution_count": null,
   "metadata": {},
   "outputs": [],
   "source": [
    "from astropy.io import fits\n",
    "import numpy as np\n",
    "import scipy as sp\n",
    "from scipy.interpolate import interp1d\n",
    "from scipy.stats import chisquare\n",
    "from PyAstronomy.pyasl import dopplerShift\n",
    "import matplotlib.pyplot as plt\n",
    "% matplotlib "
   ]
  },
  {
   "cell_type": "code",
   "execution_count": null,
   "metadata": {
    "collapsed": true
   },
   "outputs": [],
   "source": [
    "def one_comp_model(wav, model1, gammas):\n",
    "    # Make 2 component simulations, broadcasting over alpha, rv, gamma values.\n",
    "\n",
    "    # Enable single scalar inputs (turn to 1d np.array)\n",
    "    if not hasattr(gammas, \"__len__\"):\n",
    "        gammas = np.asarray(gammas)[np.newaxis]\n",
    "        print(len(gammas))\n",
    "\n",
    "    m1 = model1\n",
    "    print(model1.shape)\n",
    "    \n",
    "    m1g = np.empty(model1.shape + (len(gammas),))   # am2rvm1g = am2rvm1 with gamma doppler-shift\n",
    "    print(m1g.shape)\n",
    "    for j, gamma in enumerate(gammas):\n",
    "        wav_j = (1 + gamma / 299792.458) * wav\n",
    "        m1g[:, j] = interp1d(wav_j, m1, axis=0, bounds_error=False)(wav)\n",
    "    \n",
    "    return interp1d(w, m1g, axis=0)    # pass it the wavelength values to return"
   ]
  },
  {
   "cell_type": "code",
   "execution_count": null,
   "metadata": {
    "collapsed": true
   },
   "outputs": [],
   "source": [
    "# Load in the data\n",
    "wav = \"/home/jneal/Phd/data/phoenixmodels/WAVE_PHOENIX-ACES-AGSS-COND-2011.fits\"\n",
    "host = \"/home/jneal/Phd/data/phoenixmodels/HD30501-lte05200-4.50-0.0.PHOENIX-ACES-AGSS-COND-2011-HiRes.fits\"\n",
    "comp = \"/home/jneal/Phd/data/phoenixmodels/HD30501b-lte02500-5.00-0.0.PHOENIX-ACES-AGSS-COND-2011-HiRes.fits\"\n",
    "\n",
    "w = fits.getdata(wav) / 10\n",
    "h = fits.getdata(host)\n",
    "c = fits.getdata(comp)\n"
   ]
  },
  {
   "cell_type": "code",
   "execution_count": null,
   "metadata": {
    "collapsed": true
   },
   "outputs": [],
   "source": [
    "mask = (2111 < w) & (w < 2117)\n",
    "\n",
    "w = w[mask] \n",
    "h = h[mask]\n",
    "c = c[mask]\n",
    "\n",
    "# crude normalization\n",
    "h = h/np.max(h)\n",
    "c = c/np.max(c)"
   ]
  },
  {
   "cell_type": "code",
   "execution_count": null,
   "metadata": {
    "collapsed": true
   },
   "outputs": [],
   "source": [
    "# Create a simulated spectrum\n",
    "# Parameters\n",
    "c_kms = 299792.458   # km/s\n",
    "# s_alpha = np.array([0.1])\n",
    "# s_rv    = np.array([1.5])\n",
    "s_gamma = np.array([0.5])\n",
    "answers = (s_gamma,)\n",
    "\n",
    "# Compact simulation of one component\n",
    "# comp = interp1d((1 + s_rv / c_kms) * w, s_alpha * c, bounds_error=False)(w)\n",
    "Sim_func = interp1d((1 + s_gamma / c_kms) * w, h, bounds_error=False, axis=0)\n",
    "sim_f_orgw = Sim_func(w)\n",
    "\n",
    "sim_w = np.linspace(2114, 2115, 1024)\n",
    "sim_f = Sim_func(sim_w)\n"
   ]
  },
  {
   "cell_type": "code",
   "execution_count": null,
   "metadata": {},
   "outputs": [],
   "source": [
    "# Simulate with ocm function\n",
    "sim_ocm_f =  one_comp_model(w, h, s_gamma)(sim_w)"
   ]
  },
  {
   "cell_type": "code",
   "execution_count": null,
   "metadata": {},
   "outputs": [],
   "source": [
    "plt.close()\n",
    "plt.plot(w, sim_f_orgw, label=\"org_w\")\n",
    "plt.plot(sim_w, sim_f, label=\"sim\")\n",
    "plt.plot(sim_w, np.squeeze(sim_ocm_f), label=\"ocm sim\")\n",
    "plt.legend()\n",
    "plt.show()\n",
    "\n",
    "sim_f.shape\n",
    "\n",
    "# sim_w, sim_f are the observations to perform chisquared against!"
   ]
  },
  {
   "cell_type": "markdown",
   "metadata": {},
   "source": [
    "# Parameters for chi-sqruare map"
   ]
  },
  {
   "cell_type": "code",
   "execution_count": null,
   "metadata": {},
   "outputs": [],
   "source": [
    "gammas = np.arange(-0.9, 1, 0.015)\n",
    "print(len(gammas))"
   ]
  },
  {
   "cell_type": "code",
   "execution_count": null,
   "metadata": {},
   "outputs": [],
   "source": [
    "ocm = one_comp_model(w, h, gammas=gammas) "
   ]
  },
  {
   "cell_type": "code",
   "execution_count": null,
   "metadata": {},
   "outputs": [],
   "source": [
    "# One component model\n",
    "ocm_obs = ocm(sim_w)          # Interpolate to observed values.\n",
    "ocm_obs.shape"
   ]
  },
  {
   "cell_type": "markdown",
   "metadata": {},
   "source": [
    "# Calcualte Chi-Square"
   ]
  },
  {
   "cell_type": "code",
   "execution_count": null,
   "metadata": {},
   "outputs": [],
   "source": [
    "chi2 = chisquare(sim_f[:, np.newaxis], ocm_obs).statistic\n",
    "chi2.shape"
   ]
  },
  {
   "cell_type": "code",
   "execution_count": null,
   "metadata": {},
   "outputs": [],
   "source": [
    "min_indx = np.unravel_index(chi2.argmin(), chi2.shape)\n",
    "\n",
    "print(gammas[min_indx[0]])"
   ]
  },
  {
   "cell_type": "code",
   "execution_count": null,
   "metadata": {},
   "outputs": [],
   "source": [
    "# Compare to ocm generated simulation\n",
    "chi2_ocm = chisquare(sim_ocm_f, ocm_obs).statistic\n",
    "min_indx_ocm = np.unravel_index(chi2.argmin(), chi2.shape)\n",
    "\n",
    "#ocm_chi2_ocm = chisquare(ocm_sim_f[:, np.newaxis], ocm_obs).statistic\n",
    "#min_indx_ocm = np.unravel_index(chi2.argmin(), chi2.shape)\n",
    "print(\"sim results =\", gammas[min_indx[0]])\n",
    "print(\"ocm results =\", gammas[min_indx_ocm[0]])     # observation simulated with the ocm model\n",
    "print(\"answer\", answers)"
   ]
  },
  {
   "cell_type": "code",
   "execution_count": null,
   "metadata": {},
   "outputs": [],
   "source": [
    "# Putting resulted min values back into ocm\n",
    "\n",
    "res = one_comp_model(w, h, gammas[min_indx[0]])\n",
    "res_sim = res(sim_w)\n",
    "\n",
    "res_ocm = one_comp_model(w, h, gammas[min_indx_ocm[0]])\n",
    "res_sim_ocm = res_ocm(sim_w)"
   ]
  },
  {
   "cell_type": "code",
   "execution_count": null,
   "metadata": {},
   "outputs": [],
   "source": [
    "print(answers)\n",
    "plt.plot(sim_w, sim_f, \"--\", label=\"Obs\")\n",
    "plt.plot(sim_w, np.squeeze(res_sim)+0.01, label= \"1 comp\")\n",
    "plt.plot(sim_w, np.squeeze(res_sim_ocm)+0.02, label=\"ocm 1 comp\")\n",
    "plt.legend()\n",
    "plt.show()"
   ]
  },
  {
   "cell_type": "code",
   "execution_count": null,
   "metadata": {},
   "outputs": [],
   "source": [
    "plt.close()\n",
    "plt.figure()"
   ]
  },
  {
   "cell_type": "code",
   "execution_count": null,
   "metadata": {},
   "outputs": [],
   "source": [
    "plt.figure()\n",
    "plt.plot(gammas, chi2)\n",
    "plt.xlabel(\"gammas\")\n",
    "plt.ylabel(\"Chisquare\")\n"
   ]
  },
  {
   "cell_type": "code",
   "execution_count": null,
   "metadata": {
    "collapsed": true
   },
   "outputs": [],
   "source": [
    "plt.figure()\n",
    "plt.contourf(chi2[:,1,:])\n"
   ]
  },
  {
   "cell_type": "code",
   "execution_count": null,
   "metadata": {},
   "outputs": [],
   "source": [
    "plt.close()\n",
    "plt.close()"
   ]
  },
  {
   "cell_type": "code",
   "execution_count": null,
   "metadata": {
    "collapsed": true
   },
   "outputs": [],
   "source": []
  }
 ],
 "metadata": {
  "kernelspec": {
   "display_name": "Python [conda root]",
   "language": "python",
   "name": "conda-root-py"
  },
  "language_info": {
   "codemirror_mode": {
    "name": "ipython",
    "version": 3
   },
   "file_extension": ".py",
   "mimetype": "text/x-python",
   "name": "python",
   "nbconvert_exporter": "python",
   "pygments_lexer": "ipython3",
   "version": "3.5.3"
  }
 },
 "nbformat": 4,
 "nbformat_minor": 2
}
