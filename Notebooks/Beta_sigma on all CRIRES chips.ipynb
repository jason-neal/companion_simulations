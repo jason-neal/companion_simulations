{
 "cells": [
  {
   "cell_type": "markdown",
   "metadata": {},
   "source": [
    "## Apply Beta-sigma on all the CRIRES Spectra\n",
    "\n",
    "Using the berved spectra\n"
   ]
  },
  {
   "cell_type": "code",
   "execution_count": 37,
   "metadata": {},
   "outputs": [],
   "source": [
    "from astropy.io import fits\n",
    "import os\n",
    "from PyAstronomy import pyasl\n",
    "import matplotlib.pyplot as plt\n",
    "import numpy as np\n",
    "import glob\n",
    "%matplotlib inline"
   ]
  },
  {
   "cell_type": "code",
   "execution_count": 38,
   "metadata": {},
   "outputs": [],
   "source": [
    "def Betasigma_check(yi, N, j, **kwargs):\n",
    "    \"Checks adjacent orders for consistency\"\n",
    "    bseq = pyasl.BSEqSamp()\n",
    "    smad, dsmad = bseq.betaSigma(yi, N, j, **kwargs)\n",
    "    smad1, dsmad1 = bseq.betaSigma(yi, N+1, j, **kwargs)\n",
    "    print(\"    Robust estimate of noise std (N): %6.5f +/- %6.5f\" % (smad, dsmad))\n",
    "    print(\"    Robust estimate of noise std (N+1): %6.5f +/- %6.5f\" % (smad1, dsmad1))\n",
    "    if ( (smad1-dsmad1) < smad < (smad1+dsmad1) ) & ((smad-dsmad) < smad1 < (smad+dsmad) ):\n",
    "        print(\"consistent\")\n",
    "        return True\n",
    "    else:\n",
    "        print(\"N=\",N, \"and N=\", N+1, \"are not conisitent\")\n",
    "        return False\n",
    "        \n",
    "def Betasigma_j_check(yi, N, j,**kwargs):\n",
    "    \"Checks adjacent orders for consistency\"\n",
    "    bseq = pyasl.BSEqSamp()\n",
    "    smad, dsmad = bseq.betaSigma(yi, N, j, **kwargs)\n",
    "    smad1, dsmad1 = bseq.betaSigma(yi, N, j+1, **kwargs)\n",
    "    print(\"    Robust estimate of noise std j={}: {:6.5f} +/- {:6.5f}\".format(j, smad, dsmad))\n",
    "    print(\"    Robust estimate of noise std j={}: {:6.5f} +/- {:6.5f}\".format(j+1, smad1, dsmad1))\n",
    "    if ( (smad1-dsmad1) < smad < (smad1+dsmad1) ) & ((smad-dsmad) < smad1 < (smad+dsmad)):\n",
    "        print(\"consistent\")\n",
    "        return True\n",
    "    else:\n",
    "        print(\"j=\", j, \"and j=\", j+1, \"are not conisitent\")\n",
    "        return False"
   ]
  },
  {
   "cell_type": "code",
   "execution_count": 39,
   "metadata": {},
   "outputs": [
    {
     "data": {
      "text/plain": [
       "['/home/jneal/.handy_spectra/HD30501-1-mixavg-tellcorr_1_bervcorr.fits',\n",
       " '/home/jneal/.handy_spectra/HD167665-2-mixavg-tellcorr_1_bervcorr.fits',\n",
       " '/home/jneal/.handy_spectra/HD211847-1-mixavg-tellcorr_1_bervcorr.fits',\n",
       " '/home/jneal/.handy_spectra/HD202206-2-mixavg-tellcorr_1_bervcorr.fits',\n",
       " '/home/jneal/.handy_spectra/HD162020-2-mixavg-tellcorr_1_bervcorr.fits',\n",
       " '/home/jneal/.handy_spectra/HD167665-1a-mixavg-tellcorr_1_bervcorr.fits',\n",
       " '/home/jneal/.handy_spectra/HD202206-1-mixavg-tellcorr_1_bervcorr.fits',\n",
       " '/home/jneal/.handy_spectra/HD30501-3-mixavg-tellcorr_1_bervcorr.fits',\n",
       " '/home/jneal/.handy_spectra/HD202206-3-mixavg-tellcorr_1_bervcorr.fits',\n",
       " '/home/jneal/.handy_spectra/HD211847-2-mixavg-tellcorr_1_bervcorr.fits',\n",
       " '/home/jneal/.handy_spectra/HD168443-1-mixavg-tellcorr_1_bervcorr.fits',\n",
       " '/home/jneal/.handy_spectra/HD162020-1-mixavg-tellcorr_1_bervcorr.fits',\n",
       " '/home/jneal/.handy_spectra/HD168443-2-mixavg-tellcorr_1_bervcorr.fits',\n",
       " '/home/jneal/.handy_spectra/HD4747-1-mixavg-tellcorr_1_bervcorr.fits',\n",
       " '/home/jneal/.handy_spectra/HD30501-2b-mixavg-tellcorr_1_bervcorr.fits',\n",
       " '/home/jneal/.handy_spectra/HD167665-1b-mixavg-tellcorr_1_bervcorr.fits',\n",
       " '/home/jneal/.handy_spectra/HD30501-2a-mixavg-tellcorr_1_bervcorr.fits']"
      ]
     },
     "execution_count": 39,
     "metadata": {},
     "output_type": "execute_result"
    }
   ],
   "source": [
    "glob.glob(\"/home/jneal/.handy_spectra/*-mixavg-tellcorr_1_bervcorr.fits\")\n",
    "        "
   ]
  },
  {
   "cell_type": "code",
   "execution_count": 45,
   "metadata": {},
   "outputs": [
    {
     "name": "stdout",
     "output_type": "stream",
     "text": [
      "Done\n",
      "individual SNR\n",
      "{('HD30501', '1', '1'): 606.4035120039435, ('HD30501', '1', '2'): 882.8619108777428, ('HD30501', '1', '3'): 867.6618090404141, ('HD30501', '1', '4'): 414.744425541669, ('HD30501', '2a', '1'): 339.51585417414395, ('HD30501', '2a', '2'): 419.6322748683186, ('HD30501', '2a', '3'): 524.4161511410332, ('HD30501', '2a', '4'): 364.56314391969033, ('HD30501', '2b', '1'): 504.48669378659156, ('HD30501', '2b', '2'): 693.6587762637056, ('HD30501', '2b', '3'): 724.3107836657873, ('HD30501', '2b', '4'): 436.5735089400485, ('HD30501', '3', '1'): 523.9045680964913, ('HD30501', '3', '2'): 676.8577871294688, ('HD30501', '3', '3'): 729.813918808226, ('HD30501', '3', '4'): 432.3507219533031, ('HD202206', '1', '1'): 297.76463482498434, ('HD202206', '1', '2'): 379.9869653669992, ('HD202206', '1', '3'): 465.40019897295565, ('HD202206', '1', '4'): 349.6074806066567, ('HD202206', '2', '1'): 350.9425546151928, ('HD202206', '2', '2'): 506.0188394398859, ('HD202206', '2', '3'): 558.3068779299296, ('HD202206', '2', '4'): 396.9225618587859, ('HD202206', '3', '1'): 249.49459713266978, ('HD202206', '3', '2'): 377.0562781462017, ('HD202206', '3', '3'): 386.2279230655494, ('HD202206', '3', '4'): 323.9220095359658, ('HD168443', '1', '1'): 661.6038947857134, ('HD168443', '1', '2'): 759.7804683575984, ('HD168443', '1', '3'): 910.3981138794361, ('HD168443', '1', '4'): 509.3882893497989, ('HD168443', '2', '1'): 587.3622972792816, ('HD168443', '2', '2'): 791.545694633856, ('HD168443', '2', '3'): 820.4036938638998, ('HD168443', '2', '4'): 481.71665802333797, ('HD167665', '1a', '1'): 826.7937634726767, ('HD167665', '1a', '2'): 991.3923610779442, ('HD167665', '1a', '3'): 947.8327316553501, ('HD167665', '1a', '4'): 594.7130339550703, ('HD167665', '1b', '1'): 520.208808203192, ('HD167665', '1b', '2'): 835.3563675298227, ('HD167665', '1b', '3'): 825.7269686634002, ('HD167665', '1b', '4'): 534.5579993867876, ('HD167665', '2', '1'): 865.2207282682275, ('HD167665', '2', '2'): 897.874593937946, ('HD167665', '2', '3'): 1044.8872516115782, ('HD167665', '2', '4'): 623.825743240468, ('HD4747', '1', '1'): 571.9885172121277, ('HD4747', '1', '2'): 752.5448121723193, ('HD4747', '1', '3'): 775.561191015122, ('HD4747', '1', '4'): 511.90316471428196, ('HD162020', '1', '1'): 363.3220815026939, ('HD162020', '1', '3'): 570.1284536143419, ('HD162020', '1', '4'): 384.23450782944604, ('HD162020', '2', '1'): 386.591895291554, ('HD162020', '2', '2'): 481.3651062063029, ('HD162020', '2', '3'): 564.5562056843359, ('HD162020', '2', '4'): 340.2131416165676, ('HD211847', '1', '1'): 301.5220370855096, ('HD211847', '1', '2'): 401.3774299283064, ('HD211847', '1', '3'): 464.62540682449014, ('HD211847', '1', '4'): 387.82825185769974, ('HD211847', '2', '1'): 267.63398336784695, ('HD211847', '2', '2'): 411.93692007732557, ('HD211847', '2', '3'): 498.0564454371898, ('HD211847', '2', '4'): 353.99218138852757}\n",
      "sigmas added in quadrature\n",
      "{('HD30501', '1'): 299.5541514564503, ('HD30501', '2a'): 197.97369052093646, ('HD30501', '2b'): 275.65604208581925, ('HD30501', '3'): 276.78410971969856, ('HD202206', '1'): 179.5974413596513, ('HD202206', '2'): 215.2638217560179, ('HD202206', '3'): 159.44908942265607, ('HD168443', '1'): 331.91079070659475, ('HD168443', '2'): 311.7429002123974, ('HD167665', '1a'): 394.64387573782193, ('HD167665', '1b'): 314.74445222419575, ('HD167665', '2'): 406.1616317115524, ('HD4747', '1'): 311.5741700613973, ('HD162020', '1'): 239.55630892049132, ('HD162020', '2'): 209.5007234743059, ('HD211847', '1'): 187.35947174018233, ('HD211847', '2'): 177.14932718508413}\n"
     ]
    }
   ],
   "source": [
    "targets =  [\"HD30501\", \"HD202206\",\"HD168443\",  \"HD167665\", \"HD202206\", \"HD4747\", \"HD162020\", \"HD211847\" ]\n",
    "chips = [\"1\", \"2\", \"3\", \"4\"]\n",
    "obs = [\"1\", \"1a\", \"1b\", \"2\", \"2a\", \"2b\", \"3\"]\n",
    "Store_dict = {}\n",
    "star_obs_chip_snr = {}\n",
    "star_obs_snr = {}\n",
    "bseq = pyasl.BSEqSamp()\n",
    "kwargs = {\"returnMAD\":True}\n",
    "N = 5\n",
    "j = 2\n",
    "\n",
    "for star in targets:\n",
    "    for this_obs in obs:\n",
    "        chip_sigma = []\n",
    "        for chip in chips:\n",
    "            files = glob.glob(\"/home/jneal/.handy_spectra/{0}-{1}-mixavg-tellcorr_{2}_bervcorr.fits\".format(star, this_obs, chip))\n",
    "            if len(files) == 1:\n",
    "                data = fits.getdata(files[0])\n",
    "                wave_i, flux_i = data[\"wavelength\"], data[\"flux\"]\n",
    "\n",
    "                # Calclate SNR and save to dict \n",
    "                smad, dsmad = bseq.betaSigma(flux_i, N, j, **kwargs)\n",
    "                star_obs_chip_snr[(star, this_obs, chip)] = 1 / smad\n",
    "                chip_sigma.append(smad)\n",
    "               \n",
    "            elif len(files) > 1:\n",
    "                print(\"more than one file for \", star, this_obs, chip)\n",
    "            else:\n",
    "                pass\n",
    "       \n",
    "        combined_error = sum([c*c for c in chip_sigma])**(1/2)\n",
    "\n",
    "        if combined_error != 0:\n",
    "            star_obs_snr[(star, this_obs)] = 1 / combined_error\n",
    "print(\"Done\")\n",
    "print(\"individual SNR\")\n",
    "print(star_obs_chip_snr)\n",
    "\n",
    "# Not sure if this is correct or not\n",
    "print(\"sigmas added in quadrature\")\n",
    "print(star_obs_snr)\n",
    "\n"
   ]
  },
  {
   "cell_type": "code",
   "execution_count": 42,
   "metadata": {},
   "outputs": [],
   "source": [
    "def betasigma_spectra(file, Nmax=5, j=1, arb=False, returnMAD=True):\n",
    "    data = fits.getdata(file)\n",
    "    xi, yi = data[\"wavelength\"], data[\"flux\"]\n",
    "\n",
    "    mdiff = np.max(np.abs(np.diff(yi)))\n",
    "    print(\"\"\"Maximum absolute difference between consecutive\n",
    "        values of flux: \"\"\", mdiff)\n",
    "\n",
    "    nd = len(yi)\n",
    "    print(\"Number of 'data points': \", nd)\n",
    "    print()\n",
    "    print(\"Very Rough std = {}\".format(np.std(yi)))\n",
    "\n",
    "    # Create class instance for equidistant sampling\n",
    "    if arb:\n",
    "        bsarb = pyasl.BSArbSamp()\n",
    "    else:\n",
    "        bseq = pyasl.BSEqSamp()\n",
    "    \n",
    "    # Specify jump parameter (j) for construction of beta sample\n",
    "    j = j\n",
    "\n",
    "    # Order of approximation to use\n",
    "    Ns = range(Nmax+1)\n",
    "\n",
    "    # Use to store noise estimates\n",
    "    smads, dsmads = [], []\n",
    "\n",
    "    # Loop over orders of approximation between 0 and 3\n",
    "    for N in Ns:\n",
    "        print(\"Order of approximation (N): \", N)\n",
    "\n",
    "        # Get estimates of standard deviation based on robust (MAD-based) estimator\n",
    "        if arb:\n",
    "            smad, dsmad = bsarb.betaSigma(xi, yi, N, j, returnMAD=returnMAD)\n",
    "            print(\"    Size of beta sample: \", len(bsarb.betaSample))\n",
    "        else:\n",
    "            smad, dsmad = bseq.betaSigma(yi, N, j, returnMAD=returnMAD)\n",
    "            print(\"    Size of beta sample: \", len(bseq.betaSample))\n",
    "        print(\"    Robust estimate of noise std: %6.5f +/- %6.5f\" % (smad, dsmad))\n",
    "        # Save result\n",
    "        smads.append(smad)\n",
    "        dsmads.append(dsmad)\n",
    "\n",
    "    # Plot g(t) and the synthetic data\n",
    "    plt.subplot(2,1,1)\n",
    "    plt.title(\"Data (top) and noise estimates (bottom)\")\n",
    "    plt.plot(xi, yi, 'b.-', label=\"flux\")\n",
    "    #plt.errorbar(ti, yi, yerr=np.ones(nd)*istd, fmt='r+', label=\"$y_i$\")\n",
    "    plt.legend()\n",
    "    plt.subplot(2,1,2)\n",
    "    plt.title(\"N=0 is insufficient\")\n",
    "    plt.errorbar(Ns, smads, yerr=dsmads, fmt='k+', label=\"Noise estimates\")\n",
    "    #plt.plot([min(Ns)-0.5, max(Ns)+0.5], [np.std(flux)]*2, 'k--', label=\"Rough value\")\n",
    "    plt.legend()\n",
    "    plt.xlabel(\"Order of approximation (N)\")\n",
    "    plt.ylabel(\"Noise STD\")\n",
    "    plt.tight_layout()\n",
    "    plt.show()"
   ]
  },
  {
   "cell_type": "markdown",
   "metadata": {},
   "source": [
    "\n",
    "These spectra seem to have SNR ~ 300-900 in the continuum from Beta simga estimates."
   ]
  },
  {
   "cell_type": "code",
   "execution_count": 10,
   "metadata": {},
   "outputs": [
    {
     "name": "stdout",
     "output_type": "stream",
     "text": [
      "    Robust estimate of noise std 0(N): 0.00208 +/- 0.00013\n",
      "    Robust estimate of noise std 0(N+1): 0.00215 +/- 0.00014\n",
      "consistent\n"
     ]
    }
   ],
   "source": [
    "Betasigma_check(flux_i, 4, j=1, returnMAD=True)"
   ]
  },
  {
   "cell_type": "code",
   "execution_count": 11,
   "metadata": {},
   "outputs": [
    {
     "name": "stdout",
     "output_type": "stream",
     "text": [
      "    Robust estimate of noise std j=3: 0.00252 +/- 0.00016\n",
      "    Robust estimate of noise std j=4: 0.00314 +/- 0.00020\n",
      "4 and 5 are not conisitent\n"
     ]
    }
   ],
   "source": [
    "Betasigma_j_check(flux_i, 4, j=3, returnMAD=True)"
   ]
  },
  {
   "cell_type": "code",
   "execution_count": 15,
   "metadata": {},
   "outputs": [
    {
     "data": {
      "image/png": "[encoded data removed]",
      "text/plain": [
       "<matplotlib.figure.Figure at 0x7f2d385b2748>"
      ]
     },
     "metadata": {},
     "output_type": "display_data"
    }
   ],
   "source": [
    "def betasigma_plot(flux, arb=False, **kwargs):\n",
    "    import matplotlib\n",
    "    # colors_array = list(matplotlib.colors.cnames.keys())\n",
    "    lines_array = list(matplotlib.lines.lineStyles.keys())\n",
    "    # markers_array = list(matplotlib.markers.MarkerStyle.markers)\n",
    "    Ns = range(11)\n",
    "    js = range(1,6)\n",
    "    \n",
    "    plt.figure(figsize=(8, 5))\n",
    "    plt.subplot(211)\n",
    "    plt.plot(flux)\n",
    "    plt.subplot(212)\n",
    "    for jj, j in enumerate(js):\n",
    "        # Use to store noise estimates\n",
    "        smads, dsmads = [], []\n",
    "        for N in Ns:\n",
    "            #print(\"Order of approximation (N): \", N)\n",
    "\n",
    "            # Get estimates of standard deviation based on robust (MAD-based) estimator\n",
    "            if arb:\n",
    "                smad, dsmad = bsarb.betaSigma(xi, yi, N, j, returnMAD=returnMAD)\n",
    "            else:\n",
    "                bseq = pyasl.BSEqSamp()\n",
    "                smad, dsmad = bseq.betaSigma(yi, N, j, **kwargs)\n",
    "        # Save result\n",
    "            smads.append(smad)\n",
    "            dsmads.append(dsmad)\n",
    "        plt.errorbar(Ns, smads, dsmad, label=\"j={}\".format(j), linestyle=lines_array[jj])\n",
    "        plt.xlabel(\"Order of Approximation (N)\")\n",
    "        plt.ylabel(\"$s_{ME}$\")\n",
    "        if arb:\n",
    "            plt.title(r\"Arbitray sampling $\\beta\\sigma$\")\n",
    "        else:\n",
    "             plt.title(r\"Equidistant sampling $\\beta\\sigma$\")\n",
    "    plt.legend(ncol=len(js))\n",
    "    plt.tight_layout()\n",
    "    plt.show()\n",
    "    \n"
   ]
  },
  {
   "cell_type": "code",
   "execution_count": null,
   "metadata": {},
   "outputs": [],
   "source": [
    "betasigma_plot(flux_i, returnMAD=True)"
   ]
  },
  {
   "cell_type": "code",
   "execution_count": null,
   "metadata": {},
   "outputs": [],
   "source": []
  }
 ],
 "metadata": {
  "kernelspec": {
   "display_name": "Python [conda env:sims]",
   "language": "python",
   "name": "conda-env-sims-py"
  },
  "language_info": {
   "codemirror_mode": {
    "name": "ipython",
    "version": 3
   },
   "file_extension": ".py",
   "mimetype": "text/x-python",
   "name": "python",
   "nbconvert_exporter": "python",
   "pygments_lexer": "ipython3",
   "version": "3.6.4"
  }
 },
 "nbformat": 4,
 "nbformat_minor": 2
}
