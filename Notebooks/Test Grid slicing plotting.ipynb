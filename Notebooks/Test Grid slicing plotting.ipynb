{
 "cells": [
  {
   "cell_type": "markdown",
   "metadata": {},
   "source": [
    "# Testing ploting grid slice"
   ]
  },
  {
   "cell_type": "code",
   "execution_count": null,
   "metadata": {},
   "outputs": [],
   "source": [
    "import matplotlib.pyplot as plt\n",
    "import numpy as np\n"
   ]
  },
  {
   "cell_type": "code",
   "execution_count": null,
   "metadata": {},
   "outputs": [],
   "source": [
    "def plot_iam_grid_slices(x, y, z, grid):\n",
    "    X, Y, Z = np.meshgrid(x, y, z, indexing =\"ij\")\n",
    "\n",
    "    for ii, y_val in enumerate(y):\n",
    "\n",
    "        ax = plt.subplot(111)\n",
    "\n",
    "        cmap = ax.contour(X[:,ii , :], Z[:, ii, :], grid[:, ii, :])\n",
    "        plt.colorbar(cmap)\n",
    "        ax.plot\n",
    "        ax.set_title(\"grid slice for y={}\".format(y_val))\n",
    "        plt.show()\n",
    "        #pltname = os.path.join(simulators.paths[], \"grid_plots\",\n",
    "        #                      \"grid_slice\")\n",
    "        #plt.savefig(\".png\")\n",
    "\n",
    "    for jj, z_val in enumerate(z):\n",
    "        ax = plt.subplot(111)\n",
    "\n",
    "        cmap = ax.contourf(X[:, :, jj], Y[:, :, jj], grid[:, :, jj])\n",
    "        plt.colorbar(cmap)\n",
    "        ax.plot\n",
    "        ax.set_title(\"grid slice for z={}\".format(z_val))\n",
    "        plt.show()\n",
    "        #pltname = os.path.join(simulators.paths[], \"grid_plots\",\n",
    "        #                       \"grid_slice\")\n",
    "        #print(pltname)\n",
    "        # plt.savefig(\".png\")"
   ]
  },
  {
   "cell_type": "code",
   "execution_count": null,
   "metadata": {},
   "outputs": [],
   "source": [
    "x = np.arange(100)\n",
    "y = np.arange(15)\n",
    "z = np.arange(7)\n",
    "\n",
    "grid = np.random.randn(len(x),len(y),len(z))\n",
    "print(grid.shape)"
   ]
  },
  {
   "cell_type": "code",
   "execution_count": null,
   "metadata": {},
   "outputs": [],
   "source": [
    "XX, YY, ZZ = np.meshgrid(x, y, z, indexing =\"ij\")\n",
    "XX.shape"
   ]
  },
  {
   "cell_type": "code",
   "execution_count": null,
   "metadata": {},
   "outputs": [],
   "source": [
    "plot_iam_grid_slices(x, y, z, grid)"
   ]
  },
  {
   "cell_type": "code",
   "execution_count": null,
   "metadata": {},
   "outputs": [],
   "source": []
  }
 ],
 "metadata": {
  "anaconda-cloud": {},
  "kernelspec": {
   "display_name": "Python [conda env:sims]",
   "language": "python",
   "name": "conda-env-sims-py"
  },
  "language_info": {
   "codemirror_mode": {
    "name": "ipython",
    "version": 3
   },
   "file_extension": ".py",
   "mimetype": "text/x-python",
   "name": "python",
   "nbconvert_exporter": "python",
   "pygments_lexer": "ipython3",
   "version": "3.6.2"
  }
 },
 "nbformat": 4,
 "nbformat_minor": 2
}
